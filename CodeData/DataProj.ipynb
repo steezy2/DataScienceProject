{
 "cells": [
  {
   "cell_type": "code",
   "execution_count": 1,
   "metadata": {
    "scrolled": true
   },
   "outputs": [],
   "source": [
    "\n",
    "\n",
    "import numpy as np\n",
    "import pandas as pd\n",
    "import sklearn as sk\n",
    "import matplotlib.pyplot as plt\n",
    "from trackml.dataset import load_event\n",
    "from sklearn import svm\n",
    "from sklearn.model_selection import train_test_split\n",
    "\n",
    "hits, cells, particles, truth = load_event('C:/Users/filli/Coding things/DataProj/train_sample/train_100_events/event000001000')\n"
   ]
  },
  {
   "cell_type": "code",
   "execution_count": 2,
   "metadata": {},
   "outputs": [
    {
     "name": "stdout",
     "output_type": "stream",
     "text": [
      "hits describe:\n",
      "              hit_id              x              y              z  \\\n",
      "count  120939.00000  120939.000000  120939.000000  120939.000000   \n",
      "mean    60470.00000      -1.769457       4.751043      -2.314452   \n",
      "std     34912.22644     305.714539     305.173279    1061.935303   \n",
      "min         1.00000   -1024.839966   -1025.109985   -2955.500000   \n",
      "25%     30235.50000    -100.146000     -95.896503    -655.799988   \n",
      "50%     60470.00000      -1.651340       1.005920      -1.800000   \n",
      "75%     90704.50000      97.267651     103.224003     655.799988   \n",
      "max    120939.00000    1025.329956    1024.849976    2955.500000   \n",
      "\n",
      "           volume_id       layer_id      module_id  \n",
      "count  120939.000000  120939.000000  120939.000000  \n",
      "mean       10.921564       5.918389     371.969117  \n",
      "std         3.365705       3.407428     529.032206  \n",
      "min         7.000000       2.000000       1.000000  \n",
      "25%         8.000000       4.000000      60.000000  \n",
      "50%         9.000000       6.000000     119.000000  \n",
      "75%        13.000000       8.000000     490.000000  \n",
      "max        18.000000      14.000000    3192.000000  \n",
      "hits head:\n",
      "    hit_id          x         y       z  volume_id  layer_id  module_id\n",
      "0       1 -64.409897 -7.163700 -1502.5          7         2          1\n",
      "1       2 -55.336102  0.635342 -1502.5          7         2          1\n",
      "2       3 -83.830498 -1.143010 -1502.5          7         2          1\n",
      "3       4 -96.109100 -8.241030 -1502.5          7         2          1\n",
      "4       5 -62.673599 -9.371200 -1502.5          7         2          1\n",
      "cells describe:\n",
      "               hit_id            ch0            ch1         value\n",
      "count  664996.000000  664996.000000  664996.000000  6.649960e+05\n",
      "mean    49603.957174     211.529248     444.395715  3.560307e-01\n",
      "std     32415.296519     156.399517     411.081790  4.322301e-01\n",
      "min         1.000000       0.000000       0.000000  1.461840e-07\n",
      "25%     25174.000000      97.000000      55.000000  5.364857e-02\n",
      "50%     36148.000000     191.000000     340.000000  6.512935e-02\n",
      "75%     78196.000000     287.000000     802.000000  1.000000e+00\n",
      "max    120939.000000    1195.000000    1279.000000  1.000000e+00\n",
      "cells head:\n",
      "    hit_id  ch0  ch1     value\n",
      "0       1  209  617  0.013832\n",
      "1       1  210  617  0.079887\n",
      "2       1  209  618  0.211723\n",
      "3       2   68  446  0.334087\n",
      "4       3   58  954  0.034005\n",
      "particles describe:\n",
      "         particle_id            vx            vy            vz            px  \\\n",
      "count  1.226300e+04  12263.000000  12263.000000  12263.000000  12263.000000   \n",
      "mean   4.803273e+17      1.107619      0.767672      7.498722     -0.003691   \n",
      "std    2.983347e+17    124.100189    124.626076    537.843567      0.930212   \n",
      "min    4.503668e+15   -955.513977   -901.664978  -2955.500000    -45.300701   \n",
      "25%    2.161771e+17     -0.017552     -0.013040     -5.444660     -0.215898   \n",
      "50%    4.548682e+17      0.000457      0.002574     -0.438758     -0.005679   \n",
      "75%    7.431018e+17      0.014919      0.013532      6.016730      0.203908   \n",
      "max    9.683079e+17    968.200012    980.807007   2950.000000     53.201599   \n",
      "\n",
      "                 py            pz             q         nhits  \n",
      "count  12263.000000  12263.000000  12263.000000  12263.000000  \n",
      "mean       0.000103      0.100067      0.107233      8.424121  \n",
      "std        0.640032      7.765715      0.994274      5.033464  \n",
      "min      -16.516300    -95.573402     -1.000000      0.000000  \n",
      "25%       -0.208301     -0.815998     -1.000000      4.000000  \n",
      "50%        0.006612      0.001188      1.000000     10.000000  \n",
      "75%        0.215444      0.848551      1.000000     12.000000  \n",
      "max       11.169400    459.528015      1.000000     19.000000  \n",
      "particles head:\n",
      "         particle_id        vx        vy        vz         px         py  \\\n",
      "0  4503668346847232 -0.009288  0.009861 -0.077879  -0.055269   0.323272   \n",
      "1  4503737066323968 -0.009288  0.009861 -0.077879  -0.948125   0.470892   \n",
      "2  4503805785800704 -0.009288  0.009861 -0.077879  -0.886484   0.105749   \n",
      "3  4503874505277440 -0.009288  0.009861 -0.077879   0.257539  -0.676718   \n",
      "4  4503943224754176 -0.009288  0.009861 -0.077879  16.439400 -15.548900   \n",
      "\n",
      "          pz  q  nhits  \n",
      "0  -0.203492 -1      8  \n",
      "1   2.010060  1     11  \n",
      "2   0.683881 -1      0  \n",
      "3   0.991616  1     12  \n",
      "4 -39.824902  1      3  \n",
      "truth describe:\n",
      "              hit_id   particle_id             tx             ty  \\\n",
      "count  120939.00000  1.209390e+05  120939.000000  120939.000000   \n",
      "mean    60470.00000  4.103431e+17      -1.767847       4.754207   \n",
      "std     34912.22644  3.231682e+17     305.709686     305.167542   \n",
      "min         1.00000  0.000000e+00   -1024.839966   -1025.099976   \n",
      "25%     30235.50000  1.035873e+17    -100.141998     -95.873302   \n",
      "50%     60470.00000  3.648081e+17      -1.651420       1.012140   \n",
      "75%     90704.50000  7.115699e+17      97.251553     103.222000   \n",
      "max    120939.00000  9.683079e+17    1025.349976    1024.849976   \n",
      "\n",
      "                  tz            tpx            tpy             tpz  \\\n",
      "count  120939.000000  120939.000000  120939.000000   120939.000000   \n",
      "mean       -2.309751    -528.415039     437.339355      -17.295870   \n",
      "std      1061.935425  188079.062500  189807.906250   272778.718750   \n",
      "min     -2955.500000 -999841.000000 -999861.000000 -1000000.000000   \n",
      "25%      -654.862000      -0.329628      -0.309520       -2.038540   \n",
      "50%        -1.759190      -0.006623       0.006257       -0.007396   \n",
      "75%       655.110504       0.308269       0.329654        2.038135   \n",
      "max      2955.500000  999910.000000  999798.000000  1000000.000000   \n",
      "\n",
      "              weight  \n",
      "count  120939.000000  \n",
      "mean        0.000008  \n",
      "std         0.000008  \n",
      "min         0.000000  \n",
      "25%         0.000004  \n",
      "50%         0.000007  \n",
      "75%         0.000011  \n",
      "max         0.000165  \n",
      "truth head:\n",
      "    hit_id         particle_id         tx        ty      tz            tpx  \\\n",
      "0       1                   0 -64.411598 -7.164120 -1502.5  250710.000000   \n",
      "1       2   22525763437723648 -55.338501  0.630805 -1502.5      -0.570605   \n",
      "2       3                   0 -83.828003 -1.145580 -1502.5  626295.000000   \n",
      "3       4  297237712845406208 -96.122902 -8.230360 -1502.5      -0.225235   \n",
      "4       5  418835796137607168 -62.659401 -9.375040 -1502.5      -0.281806   \n",
      "\n",
      "             tpy           tpz    weight  \n",
      "0 -149908.000000 -956385.00000  0.000000  \n",
      "1       0.028390     -15.49220  0.000010  \n",
      "2 -169767.000000 -760877.00000  0.000000  \n",
      "3      -0.050968      -3.70232  0.000008  \n",
      "4      -0.023487      -6.57318  0.000009  \n"
     ]
    }
   ],
   "source": [
    "\n",
    "print(\"hits describe:\\n\", hits.describe())\n",
    "print(\"hits head:\\n\",hits.head())\n",
    "print(\"cells describe:\\n\",cells.describe())\n",
    "print(\"cells head:\\n\",cells.head())\n",
    "print(\"particles describe:\\n\",particles.describe())\n",
    "print(\"particles head:\\n\",particles.head())\n",
    "print(\"truth describe:\\n\",truth.describe())\n",
    "print(\"truth head:\\n\",truth.head())\n"
   ]
  },
  {
   "cell_type": "code",
   "execution_count": 3,
   "metadata": {},
   "outputs": [
    {
     "name": "stdout",
     "output_type": "stream",
     "text": [
      "(120939, 7)\n",
      "(664996, 4)\n",
      "(12263, 9)\n",
      "(664996, 11)\n",
      "(120939, 9)\n"
     ]
    }
   ],
   "source": [
    "datahit = hits\n",
    "#print(truth.keys)\n",
    "target = truth\n",
    "frames = [hits, cells]\n",
    "featuretest = hits\n",
    "features = pd.concat(frames, axis=1, keys=\"hit_id\")\n",
    "print(hits.shape)\n",
    "print(cells.shape)\n",
    "print(particles.shape)\n",
    "print(features.shape)\n",
    "print(target.shape)\n",
    "#print(frames)"
   ]
  },
  {
   "cell_type": "code",
   "execution_count": 4,
   "metadata": {},
   "outputs": [
    {
     "name": "stdout",
     "output_type": "stream",
     "text": [
      "(96751, 7)\n",
      "(96751,)\n",
      "finishedfit\n"
     ]
    }
   ],
   "source": [
    "X_train, X_test, y_train, y_test = train_test_split(featuretest, target[\"particle_id\"], test_size=0.2)\n",
    "\n",
    "clf = svm.SVC()\n",
    "print(X_train.shape)\n",
    "print(y_train.shape)\n",
    "clf.fit(X_train, y_train)\n",
    "print(\"finishedfit\")"
   ]
  },
  {
   "cell_type": "code",
   "execution_count": null,
   "metadata": {},
   "outputs": [],
   "source": [
    "\"\"\"\n",
    "def plot_boundary(model, data):\n",
    "    cmap = ListedColormap(['#8888FF','#FF8888'])\n",
    "    xmin, xmax, ymin, ymax = -5, 5, -25, 25\n",
    "    grid_size = 0.2\n",
    "    xx, yy = np.meshgrid(np.arange(xmin, xmax, grid_size), \n",
    "                         np.arange(ymin, ymax, gridsize))\n",
    "    pp = model.predict(np.c[xx.ravel(), yy.ravel()])\n",
    "    zz = np.array([{'a':0,'b':1}[ab] for ab in pp]) \n",
    "    zz = zz.reshape(xx.shape)\n",
    "    plt.figure()\n",
    "    plt.pcolormesh(xx, yy, zz, cmap = cmap)\n",
    "    plot_predicted(model, data)\n",
    "    plt.legend(loc='upper left', ncol=2)\n",
    "\"\"\""
   ]
  },
  {
   "cell_type": "code",
   "execution_count": 5,
   "metadata": {},
   "outputs": [],
   "source": [
    "from trackml.randomize import shuffle_hits\n",
    "from trackml.score import score_event\n",
    "\n",
    "shuffled = shuffle_hits(truth, 0.05) # 5% probability to reassign a hit\n",
    "score = score_event(truth, shuffled)"
   ]
  },
  {
   "cell_type": "code",
   "execution_count": 6,
   "metadata": {},
   "outputs": [
    {
     "name": "stdout",
     "output_type": "stream",
     "text": [
      "0.9491710137925762\n"
     ]
    }
   ],
   "source": [
    "print(score)\n"
   ]
  },
  {
   "cell_type": "code",
   "execution_count": null,
   "metadata": {},
   "outputs": [],
   "source": [
    "y_hat = clf.predict(X_test)\n",
    "#clf.score(X_test, y_hat)"
   ]
  },
  {
   "cell_type": "code",
   "execution_count": null,
   "metadata": {},
   "outputs": [],
   "source": []
  }
 ],
 "metadata": {
  "kernelspec": {
   "display_name": "Python 3",
   "language": "python",
   "name": "python3"
  },
  "language_info": {
   "codemirror_mode": {
    "name": "ipython",
    "version": 3
   },
   "file_extension": ".py",
   "mimetype": "text/x-python",
   "name": "python",
   "nbconvert_exporter": "python",
   "pygments_lexer": "ipython3",
   "version": "3.8.3"
  }
 },
 "nbformat": 4,
 "nbformat_minor": 4
}
