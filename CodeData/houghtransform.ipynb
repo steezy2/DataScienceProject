{
 "cells": [
  {
   "cell_type": "code",
   "execution_count": 1,
   "metadata": {},
   "outputs": [],
   "source": [
    "%matplotlib inline\n",
    "import matplotlib.pyplot as plt\n",
    "import numpy as np\n",
    "import pandas as pd\n",
    "import os\n",
    "from sklearn.preprocessing import StandardScaler\n",
    "import hdbscan\n",
    "from scipy import stats\n",
    "from tqdm import tqdm\n",
    "from sklearn.cluster import DBSCAN\n",
    "from trackml.dataset import load_event, load_dataset\n",
    "from trackml.score import score_event\n",
    "from IPython.display import clear_output"
   ]
  },
  {
   "cell_type": "code",
   "execution_count": 2,
   "metadata": {},
   "outputs": [],
   "source": [
    "path_to_train = \"../train_sample/train_100_events\"\n",
    "event_prefix = \"event000001000\"\n",
    "hits, cells, particles, truth = load_event(os.path.join(path_to_train, event_prefix))"
   ]
  },
  {
   "cell_type": "code",
   "execution_count": 3,
   "metadata": {},
   "outputs": [],
   "source": [
    "def merge(cl1, cl2): # merge cluster 2 to cluster 1\n",
    "    d = pd.DataFrame(data={'s1':cl1,'s2':cl2})\n",
    "    d['N1'] = d.groupby('s1')['s1'].transform('count')\n",
    "    d['N2'] = d.groupby('s2')['s2'].transform('count')\n",
    "    maxs1 = d['s1'].max()\n",
    "    cond = np.where((d['N2'].values>d['N1'].values) & (d['N2'].values<25)) # tìm vị trí hit với nhit của cluster mới > nhits cluster cũ\n",
    "    s1 = d['s1'].values \n",
    "    s1[cond] = d['s2'].values[cond]+maxs1 # gán tất cả các hit đó thuộc về track mới (+maxs1 để tăng label cho track để nó khác ban đầu)\n",
    "    return s1\n",
    "\n",
    "def extract_good_hits(truth, submission):\n",
    "    tru = truth[['hit_id', 'particle_id', 'weight']].merge(submission, how='left', on='hit_id')\n",
    "    tru['count_both'] = tru.groupby(['track_id', 'particle_id']).hit_id.transform('count')    \n",
    "    tru['count_particle'] = tru.groupby(['particle_id']).hit_id.transform('count')\n",
    "    tru['count_track'] = tru.groupby(['track_id']).hit_id.transform('count')\n",
    "    return tru[(tru.count_both > 0.5*tru.count_particle) & (tru.count_both > 0.5*tru.count_track)]\n",
    "\n",
    "def fast_score(good_hits_df):\n",
    "    return good_hits_df.weight.sum()\n",
    "\n",
    "\n",
    "def analyze_truth_perspective(truth, submission):\n",
    "    tru = truth[['hit_id', 'particle_id', 'weight']].merge(submission, how='left', on='hit_id')\n",
    "    tru['count_both'] = tru.groupby(['track_id', 'particle_id']).hit_id.transform('count')    \n",
    "    tru['count_particle'] = tru.groupby(['particle_id']).hit_id.transform('count')\n",
    "    tru['count_track'] = tru.groupby(['track_id']).hit_id.transform('count')\n",
    "    good_hits = tru[(tru.count_both > 0.5*tru.count_particle) & (tru.count_both > 0.5*tru.count_track)]\n",
    "    score = good_hits.weight.sum()\n",
    "    \n",
    "    anatru = tru.particle_id.value_counts().value_counts().sort_index().to_frame().rename({'particle_id':'true_particle_counts'}, axis=1)\n",
    "    #anatru['true_particle_ratio'] = anatru['true_particle_counts'].values*100/np.sum(anatru['true_particle_counts'])\n",
    "\n",
    "    anatru['good_tracks_counts'] = np.zeros(len(anatru)).astype(int)\n",
    "    anatru['good_tracks_intersect_nhits_avg'] = np.zeros(len(anatru))\n",
    "    anatru['best_detect_intersect_nhits_avg'] = np.zeros(len(anatru))\n",
    "    for nhit in tqdm(range(4,20)):\n",
    "        particle_list  = tru[(tru.count_particle==nhit)].particle_id.unique()\n",
    "        intersect_count = 0\n",
    "        good_tracks_count = 0\n",
    "        good_tracks_intersect = 0\n",
    "        for p in particle_list:\n",
    "            nhit_intersect = tru[tru.particle_id==p].count_both.max()\n",
    "            intersect_count += nhit_intersect\n",
    "            corresponding_track = tru.loc[tru[tru.particle_id==p].count_both.idxmax()].track_id\n",
    "            leng_corresponding_track = len(tru[tru.track_id == corresponding_track])\n",
    "            \n",
    "            if (nhit_intersect >= nhit/2) and (nhit_intersect >= leng_corresponding_track/2):\n",
    "                good_tracks_count += 1\n",
    "                good_tracks_intersect += nhit_intersect\n",
    "        intersect_count = intersect_count/len(particle_list)\n",
    "        anatru.at[nhit,'best_detect_intersect_nhits_avg'] = intersect_count\n",
    "        anatru.at[nhit,'good_tracks_counts'] = good_tracks_count\n",
    "        if good_tracks_count > 0:\n",
    "            anatru.at[nhit,'good_tracks_intersect_nhits_avg'] = good_tracks_intersect/good_tracks_count\n",
    "    \n",
    "    return score, anatru, good_hits\n",
    "\n",
    "def precision(truth, submission,min_hits):\n",
    "    tru = truth[['hit_id', 'particle_id', 'weight']].merge(submission, how='left', on='hit_id')\n",
    "    tru['count_both'] = tru.groupby(['track_id', 'particle_id']).hit_id.transform('count')    \n",
    "    tru['count_particle'] = tru.groupby(['particle_id']).hit_id.transform('count')\n",
    "    tru['count_track'] = tru.groupby(['track_id']).hit_id.transform('count')\n",
    "    #print('Analyzing predictions...')\n",
    "    predicted_list  = tru[(tru.count_track>=min_hits)].track_id.unique()\n",
    "    good_tracks_count = 0\n",
    "    ghost_tracks_count = 0\n",
    "    fp_weights = 0\n",
    "    tp_weights = 0\n",
    "    for t in predicted_list:\n",
    "        nhit_track = tru[tru.track_id==t].count_track.iloc[0]\n",
    "        nhit_intersect = tru[tru.track_id==t].count_both.max()\n",
    "        corresponding_particle = tru.loc[tru[tru.track_id==t].count_both.idxmax()].particle_id\n",
    "        leng_corresponding_particle = len(tru[tru.particle_id == corresponding_particle])\n",
    "        if (nhit_intersect >= nhit_track/2) and (nhit_intersect >= leng_corresponding_particle/2): #if the predicted track is good\n",
    "            good_tracks_count += 1\n",
    "            tp_weights += tru[(tru.track_id==t)&(tru.particle_id==corresponding_particle)].weight.sum()\n",
    "            fp_weights += tru[(tru.track_id==t)&(tru.particle_id!=corresponding_particle)].weight.sum()\n",
    "        else: # if the predicted track is bad\n",
    "                ghost_tracks_count += 1\n",
    "                fp_weights += tru[(tru.track_id==t)].weight.sum()\n",
    "    all_weights = tru[(tru.count_track>=min_hits)].weight.sum()\n",
    "    precision = tp_weights/all_weights*100\n",
    "    print('Precision: ',precision,', good tracks:', good_tracks_count,', total tracks:',len(predicted_list),\n",
    "           ', loss:', fp_weights, ', reco:', tp_weights, 'reco/loss', tp_weights/fp_weights)\n",
    "    return precision\n",
    "\n",
    "\n",
    "class Clusterer(object):\n",
    "    def __init__(self):                        \n",
    "        self.abc = []\n",
    "          \n",
    "    def initialize(self,dfhits):\n",
    "        self.cluster = range(len(dfhits))\n",
    "        \n",
    "    def Hough_clustering(self,dfh,coef,epsilon,min_samples=1,n_loop=180,verbose=True): # [phi_coef,phi_coef,zdivrt_coef,zdivr_coef,xdivr_coef,ydivr_coef]\n",
    "        merged_cluster = self.cluster\n",
    "        mm = 1\n",
    "        stepii = 0.000005\n",
    "        count_ii = 0\n",
    "        adaptive_eps_coefficient = 1\n",
    "        for ii in np.arange(0, n_loop*stepii, stepii):\n",
    "            count_ii += 1\n",
    "            for jj in range(2):\n",
    "                mm = mm*(-1)\n",
    "                eps_new = epsilon + count_ii*adaptive_eps_coefficient*10**(-5)\n",
    "                dfh['a1'] = dfh['a0'].values - np.nan_to_num(np.arccos(mm*ii*dfh['rt'].values))\n",
    "                dfh['sina1'] = np.sin(dfh['a1'].values)\n",
    "                dfh['cosa1'] = np.cos(dfh['a1'].values)\n",
    "                ss = StandardScaler()\n",
    "                dfs = ss.fit_transform(dfh[['sina1','cosa1','zdivrt','zdivr','xdivr','ydivr']].values) \n",
    "                #dfs = scale_ignore_nan(dfh[['sina1','cosa1','zdivrt','zdivr','xdivr','ydivr']])\n",
    "                dfs = np.multiply(dfs, coef)\n",
    "                new_cluster=DBSCAN(eps=eps_new,min_samples=min_samples,metric='euclidean',n_jobs=4).fit(dfs).labels_\n",
    "                merged_cluster = merge(merged_cluster, new_cluster)\n",
    "                if verbose == True:\n",
    "                    sub = create_one_event_submission(0, hits, merged_cluster)\n",
    "                    good_hits = extract_good_hits(truth, sub)\n",
    "                    score_1 = fast_score(good_hits)\n",
    "                    print('2r0_inverse:', ii*mm ,'. Score:', score_1)\n",
    "                    #clear_output(wait=True)\n",
    "        self.cluster = merged_cluster\n",
    "\n",
    "def create_one_event_submission(event_id, hits, labels):\n",
    "    sub_data = np.column_stack(([event_id]*len(hits), hits.hit_id.values, labels))\n",
    "    submission = pd.DataFrame(data=sub_data, columns=[\"event_id\", \"hit_id\", \"track_id\"]).astype(int)\n",
    "    return submission  \n",
    "\n",
    "def preprocess_hits(h,dz):\n",
    "    h['z'] =  h['z'].values + dz\n",
    "    h['r'] = np.sqrt(h['x'].values**2+h['y'].values**2+h['z'].values**2)\n",
    "    h['rt'] = np.sqrt(h['x'].values**2+h['y'].values**2)\n",
    "    h['a0'] = np.arctan2(h['y'].values,h['x'].values)\n",
    "    h['zdivrt'] = h['z'].values/h['rt'].values\n",
    "    h['zdivr'] = h['z'].values/h['r'].values\n",
    "    h['xdivr'] = h['x'].values / h['r'].values\n",
    "    h['ydivr'] = h['y'].values / h['r'].values\n",
    "    return h"
   ]
  },
  {
   "cell_type": "code",
   "execution_count": 4,
   "metadata": {},
   "outputs": [
    {
     "name": "stdout",
     "output_type": "stream",
     "text": [
      "2r0_inverse: -0.0 . Score: 0.054025613\n",
      "2r0_inverse: 0.0 . Score: 0.054025613\n",
      "2r0_inverse: -5e-06 . Score: 0.05483661\n",
      "2r0_inverse: 5e-06 . Score: 0.05708793\n",
      "2r0_inverse: -1e-05 . Score: 0.058155157\n",
      "2r0_inverse: 1e-05 . Score: 0.059309196\n",
      "2r0_inverse: -1.5000000000000002e-05 . Score: 0.060501873\n",
      "2r0_inverse: 1.5000000000000002e-05 . Score: 0.06297586\n",
      "2r0_inverse: -2e-05 . Score: 0.064156964\n",
      "2r0_inverse: 2e-05 . Score: 0.0651218\n",
      "2r0_inverse: -2.5e-05 . Score: 0.06608248\n",
      "2r0_inverse: 2.5e-05 . Score: 0.06720762\n",
      "2r0_inverse: -3.0000000000000004e-05 . Score: 0.06812451\n",
      "2r0_inverse: 3.0000000000000004e-05 . Score: 0.06914617\n",
      "2r0_inverse: -3.5000000000000004e-05 . Score: 0.06936906\n",
      "2r0_inverse: 3.5000000000000004e-05 . Score: 0.07171189\n",
      "2r0_inverse: -4e-05 . Score: 0.07299629\n",
      "2r0_inverse: 4e-05 . Score: 0.07498627\n",
      "2r0_inverse: -4.5e-05 . Score: 0.07635245\n",
      "2r0_inverse: 4.5e-05 . Score: 0.078414194\n",
      "2r0_inverse: -5e-05 . Score: 0.08057461\n",
      "2r0_inverse: 5e-05 . Score: 0.08248128\n",
      "2r0_inverse: -5.5e-05 . Score: 0.0850198\n",
      "2r0_inverse: 5.5e-05 . Score: 0.087184176\n",
      "2r0_inverse: -6.000000000000001e-05 . Score: 0.088361025\n",
      "2r0_inverse: 6.000000000000001e-05 . Score: 0.09012313\n",
      "2r0_inverse: -6.500000000000001e-05 . Score: 0.09285123\n",
      "2r0_inverse: 6.500000000000001e-05 . Score: 0.09454944\n",
      "2r0_inverse: -7.000000000000001e-05 . Score: 0.09550619\n",
      "2r0_inverse: 7.000000000000001e-05 . Score: 0.09767812\n",
      "2r0_inverse: -7.500000000000001e-05 . Score: 0.099516675\n",
      "2r0_inverse: 7.500000000000001e-05 . Score: 0.10201697\n",
      "2r0_inverse: -8e-05 . Score: 0.10362375\n",
      "2r0_inverse: 8e-05 . Score: 0.106313884\n",
      "2r0_inverse: -8.5e-05 . Score: 0.10820072\n",
      "2r0_inverse: 8.5e-05 . Score: 0.11040443\n",
      "2r0_inverse: -9e-05 . Score: 0.11316712\n",
      "2r0_inverse: 9e-05 . Score: 0.11756948\n",
      "2r0_inverse: -9.5e-05 . Score: 0.119568065\n",
      "2r0_inverse: 9.5e-05 . Score: 0.122217655\n",
      "2r0_inverse: -0.0001 . Score: 0.12433015\n",
      "2r0_inverse: 0.0001 . Score: 0.12609467\n",
      "2r0_inverse: -0.000105 . Score: 0.12765133\n",
      "2r0_inverse: 0.000105 . Score: 0.12952167\n",
      "2r0_inverse: -0.00011 . Score: 0.13153401\n",
      "2r0_inverse: 0.00011 . Score: 0.13413067\n",
      "2r0_inverse: -0.000115 . Score: 0.13597403\n",
      "2r0_inverse: 0.000115 . Score: 0.1399053\n",
      "2r0_inverse: -0.00012000000000000002 . Score: 0.14240173\n",
      "2r0_inverse: 0.00012000000000000002 . Score: 0.14448982\n",
      "2r0_inverse: -0.000125 . Score: 0.1471728\n",
      "2r0_inverse: 0.000125 . Score: 0.15040465\n",
      "2r0_inverse: -0.00013000000000000002 . Score: 0.15326536\n",
      "2r0_inverse: 0.00013000000000000002 . Score: 0.15566117\n",
      "2r0_inverse: -0.000135 . Score: 0.15719241\n",
      "2r0_inverse: 0.000135 . Score: 0.16000877\n",
      "2r0_inverse: -0.00014000000000000001 . Score: 0.16283777\n",
      "2r0_inverse: 0.00014000000000000001 . Score: 0.1665138\n",
      "2r0_inverse: -0.000145 . Score: 0.16787256\n",
      "2r0_inverse: 0.000145 . Score: 0.1712252\n",
      "2r0_inverse: -0.00015000000000000001 . Score: 0.17420435\n",
      "2r0_inverse: 0.00015000000000000001 . Score: 0.17681663\n",
      "2r0_inverse: -0.000155 . Score: 0.17965612\n",
      "2r0_inverse: 0.000155 . Score: 0.1810123\n",
      "2r0_inverse: -0.00016 . Score: 0.1842354\n",
      "2r0_inverse: 0.00016 . Score: 0.18777019\n",
      "2r0_inverse: -0.00016500000000000003 . Score: 0.19048367\n",
      "2r0_inverse: 0.00016500000000000003 . Score: 0.19353604\n",
      "2r0_inverse: -0.00017 . Score: 0.19556153\n",
      "2r0_inverse: 0.00017 . Score: 0.19711745\n",
      "2r0_inverse: -0.00017500000000000003 . Score: 0.19919384\n",
      "2r0_inverse: 0.00017500000000000003 . Score: 0.20217317\n",
      "2r0_inverse: -0.00018 . Score: 0.20399639\n",
      "2r0_inverse: 0.00018 . Score: 0.20726372\n",
      "2r0_inverse: -0.00018500000000000002 . Score: 0.20959656\n",
      "2r0_inverse: 0.00018500000000000002 . Score: 0.21208194\n",
      "2r0_inverse: -0.00019 . Score: 0.21320897\n",
      "2r0_inverse: 0.00019 . Score: 0.21582925\n",
      "2r0_inverse: -0.00019500000000000002 . Score: 0.21802309\n",
      "2r0_inverse: 0.00019500000000000002 . Score: 0.22024357\n",
      "2r0_inverse: -0.0002 . Score: 0.2215403\n",
      "2r0_inverse: 0.0002 . Score: 0.22415683\n",
      "2r0_inverse: -0.00020500000000000002 . Score: 0.22650637\n",
      "2r0_inverse: 0.00020500000000000002 . Score: 0.22842044\n",
      "2r0_inverse: -0.00021 . Score: 0.23119663\n",
      "2r0_inverse: 0.00021 . Score: 0.23414363\n",
      "2r0_inverse: -0.00021500000000000002 . Score: 0.23698744\n",
      "2r0_inverse: 0.00021500000000000002 . Score: 0.2384651\n",
      "2r0_inverse: -0.00022 . Score: 0.24051347\n",
      "2r0_inverse: 0.00022 . Score: 0.2436316\n",
      "2r0_inverse: -0.00022500000000000002 . Score: 0.24599352\n",
      "2r0_inverse: 0.00022500000000000002 . Score: 0.24815637\n",
      "2r0_inverse: -0.00023 . Score: 0.24962522\n",
      "2r0_inverse: 0.00023 . Score: 0.25181168\n",
      "2r0_inverse: -0.00023500000000000002 . Score: 0.25414753\n",
      "2r0_inverse: 0.00023500000000000002 . Score: 0.2557355\n",
      "2r0_inverse: -0.00024000000000000003 . Score: 0.25768366\n",
      "2r0_inverse: 0.00024000000000000003 . Score: 0.2599738\n",
      "2r0_inverse: -0.00024500000000000005 . Score: 0.26155913\n",
      "2r0_inverse: 0.00024500000000000005 . Score: 0.26398465\n",
      "2r0_inverse: -0.00025 . Score: 0.26578668\n",
      "2r0_inverse: 0.00025 . Score: 0.26763463\n",
      "2r0_inverse: -0.000255 . Score: 0.2698363\n",
      "2r0_inverse: 0.000255 . Score: 0.27171445\n",
      "2r0_inverse: -0.00026000000000000003 . Score: 0.27432138\n",
      "2r0_inverse: 0.00026000000000000003 . Score: 0.27561826\n",
      "2r0_inverse: -0.00026500000000000004 . Score: 0.27731293\n",
      "2r0_inverse: 0.00026500000000000004 . Score: 0.279189\n",
      "2r0_inverse: -0.00027 . Score: 0.28055573\n",
      "2r0_inverse: 0.00027 . Score: 0.28247434\n",
      "2r0_inverse: -0.000275 . Score: 0.28510818\n",
      "2r0_inverse: 0.000275 . Score: 0.28670436\n",
      "2r0_inverse: -0.00028000000000000003 . Score: 0.2881707\n",
      "2r0_inverse: 0.00028000000000000003 . Score: 0.2904587\n",
      "2r0_inverse: -0.00028500000000000004 . Score: 0.29173514\n",
      "2r0_inverse: 0.00028500000000000004 . Score: 0.2938935\n",
      "2r0_inverse: -0.00029 . Score: 0.29584497\n",
      "2r0_inverse: 0.00029 . Score: 0.29741493\n",
      "2r0_inverse: -0.000295 . Score: 0.29981413\n",
      "2r0_inverse: 0.000295 . Score: 0.30143845\n",
      "2r0_inverse: -0.00030000000000000003 . Score: 0.30333394\n",
      "2r0_inverse: 0.00030000000000000003 . Score: 0.30601126\n",
      "2r0_inverse: -0.00030500000000000004 . Score: 0.30852085\n",
      "2r0_inverse: 0.00030500000000000004 . Score: 0.31040716\n",
      "2r0_inverse: -0.00031 . Score: 0.3119451\n",
      "2r0_inverse: 0.00031 . Score: 0.3134101\n",
      "2r0_inverse: -0.000315 . Score: 0.3155407\n",
      "2r0_inverse: 0.000315 . Score: 0.31693113\n",
      "2r0_inverse: -0.00032 . Score: 0.31880748\n",
      "2r0_inverse: 0.00032 . Score: 0.31982255\n",
      "2r0_inverse: -0.00032500000000000004 . Score: 0.32122934\n",
      "2r0_inverse: 0.00032500000000000004 . Score: 0.32275987\n",
      "2r0_inverse: -0.00033000000000000005 . Score: 0.32424283\n",
      "2r0_inverse: 0.00033000000000000005 . Score: 0.32638544\n",
      "2r0_inverse: -0.000335 . Score: 0.32791856\n",
      "2r0_inverse: 0.000335 . Score: 0.33024585\n",
      "2r0_inverse: -0.00034 . Score: 0.33158377\n",
      "2r0_inverse: 0.00034 . Score: 0.33338308\n",
      "2r0_inverse: -0.00034500000000000004 . Score: 0.33512065\n",
      "2r0_inverse: 0.00034500000000000004 . Score: 0.33628404\n",
      "2r0_inverse: -0.00035000000000000005 . Score: 0.33821115\n",
      "2r0_inverse: 0.00035000000000000005 . Score: 0.33941865\n",
      "2r0_inverse: -0.000355 . Score: 0.34131274\n",
      "2r0_inverse: 0.000355 . Score: 0.34292313\n",
      "2r0_inverse: -0.00036 . Score: 0.3443384\n",
      "2r0_inverse: 0.00036 . Score: 0.34583622\n",
      "2r0_inverse: -0.00036500000000000004 . Score: 0.3471407\n",
      "2r0_inverse: 0.00036500000000000004 . Score: 0.34841168\n",
      "2r0_inverse: -0.00037000000000000005 . Score: 0.3499543\n",
      "2r0_inverse: 0.00037000000000000005 . Score: 0.3510248\n",
      "2r0_inverse: -0.000375 . Score: 0.3521872\n",
      "2r0_inverse: 0.000375 . Score: 0.35356367\n",
      "2r0_inverse: -0.00038 . Score: 0.35499513\n",
      "2r0_inverse: 0.00038 . Score: 0.35611755\n",
      "2r0_inverse: -0.00038500000000000003 . Score: 0.3578679\n",
      "2r0_inverse: 0.00038500000000000003 . Score: 0.35955828\n",
      "2r0_inverse: -0.00039000000000000005 . Score: 0.36106136\n",
      "2r0_inverse: 0.00039000000000000005 . Score: 0.36254704\n",
      "2r0_inverse: -0.000395 . Score: 0.36375952\n",
      "2r0_inverse: 0.000395 . Score: 0.36493564\n",
      "2r0_inverse: -0.0004 . Score: 0.36633524\n",
      "2r0_inverse: 0.0004 . Score: 0.3680356\n",
      "2r0_inverse: -0.00040500000000000003 . Score: 0.3694451\n",
      "2r0_inverse: 0.00040500000000000003 . Score: 0.37062404\n",
      "2r0_inverse: -0.00041000000000000005 . Score: 0.3723128\n",
      "2r0_inverse: 0.00041000000000000005 . Score: 0.37372148\n",
      "2r0_inverse: -0.00041500000000000006 . Score: 0.37520927\n",
      "2r0_inverse: 0.00041500000000000006 . Score: 0.3765291\n",
      "2r0_inverse: -0.00042 . Score: 0.37790266\n",
      "2r0_inverse: 0.00042 . Score: 0.3795997\n",
      "2r0_inverse: -0.00042500000000000003 . Score: 0.38035884\n"
     ]
    },
    {
     "name": "stdout",
     "output_type": "stream",
     "text": [
      "2r0_inverse: 0.00042500000000000003 . Score: 0.3814863\n",
      "2r0_inverse: -0.00043000000000000004 . Score: 0.3827098\n",
      "2r0_inverse: 0.00043000000000000004 . Score: 0.38411516\n",
      "2r0_inverse: -0.00043500000000000006 . Score: 0.38462043\n",
      "2r0_inverse: 0.00043500000000000006 . Score: 0.38590568\n",
      "2r0_inverse: -0.00044 . Score: 0.38691133\n",
      "2r0_inverse: 0.00044 . Score: 0.38844967\n",
      "2r0_inverse: -0.00044500000000000003 . Score: 0.3897668\n",
      "2r0_inverse: 0.00044500000000000003 . Score: 0.39141107\n",
      "2r0_inverse: -0.00045000000000000004 . Score: 0.39271182\n",
      "2r0_inverse: 0.00045000000000000004 . Score: 0.39382613\n",
      "2r0_inverse: -0.00045500000000000006 . Score: 0.39475155\n",
      "2r0_inverse: 0.00045500000000000006 . Score: 0.3956153\n",
      "2r0_inverse: -0.00046 . Score: 0.39703155\n",
      "2r0_inverse: 0.00046 . Score: 0.39831638\n",
      "2r0_inverse: -0.000465 . Score: 0.39929843\n",
      "2r0_inverse: 0.000465 . Score: 0.40109333\n",
      "2r0_inverse: -0.00047000000000000004 . Score: 0.4018165\n",
      "2r0_inverse: 0.00047000000000000004 . Score: 0.40295652\n",
      "2r0_inverse: -0.00047500000000000005 . Score: 0.4039765\n",
      "2r0_inverse: 0.00047500000000000005 . Score: 0.40490937\n",
      "2r0_inverse: -0.00048000000000000007 . Score: 0.40622804\n",
      "2r0_inverse: 0.00048000000000000007 . Score: 0.40743116\n",
      "2r0_inverse: -0.000485 . Score: 0.40845498\n",
      "2r0_inverse: 0.000485 . Score: 0.41013154\n",
      "2r0_inverse: -0.0004900000000000001 . Score: 0.41129977\n",
      "2r0_inverse: 0.0004900000000000001 . Score: 0.4119599\n",
      "2r0_inverse: -0.000495 . Score: 0.41250414\n",
      "2r0_inverse: 0.000495 . Score: 0.41426998\n",
      "2r0_inverse: -0.0005 . Score: 0.41537488\n",
      "2r0_inverse: 0.0005 . Score: 0.41621932\n",
      "2r0_inverse: -0.000505 . Score: 0.41736016\n",
      "2r0_inverse: 0.000505 . Score: 0.4184359\n",
      "2r0_inverse: -0.00051 . Score: 0.4197004\n",
      "2r0_inverse: 0.00051 . Score: 0.4204449\n",
      "2r0_inverse: -0.000515 . Score: 0.4213888\n",
      "2r0_inverse: 0.000515 . Score: 0.42236054\n",
      "2r0_inverse: -0.0005200000000000001 . Score: 0.423522\n",
      "2r0_inverse: 0.0005200000000000001 . Score: 0.42481557\n",
      "2r0_inverse: -0.0005250000000000001 . Score: 0.42605156\n",
      "2r0_inverse: 0.0005250000000000001 . Score: 0.42695093\n",
      "2r0_inverse: -0.0005300000000000001 . Score: 0.42791232\n",
      "2r0_inverse: 0.0005300000000000001 . Score: 0.4293247\n",
      "2r0_inverse: -0.000535 . Score: 0.43034494\n",
      "2r0_inverse: 0.000535 . Score: 0.43110165\n",
      "2r0_inverse: -0.00054 . Score: 0.43193337\n",
      "2r0_inverse: 0.00054 . Score: 0.43274024\n",
      "2r0_inverse: -0.000545 . Score: 0.4333427\n",
      "2r0_inverse: 0.000545 . Score: 0.43421584\n",
      "2r0_inverse: -0.00055 . Score: 0.43471318\n",
      "2r0_inverse: 0.00055 . Score: 0.4352982\n",
      "2r0_inverse: -0.000555 . Score: 0.43578368\n",
      "2r0_inverse: 0.000555 . Score: 0.43662605\n",
      "2r0_inverse: -0.0005600000000000001 . Score: 0.4374802\n",
      "2r0_inverse: 0.0005600000000000001 . Score: 0.43782896\n",
      "2r0_inverse: -0.0005650000000000001 . Score: 0.4383747\n",
      "2r0_inverse: 0.0005650000000000001 . Score: 0.43916073\n",
      "2r0_inverse: -0.0005700000000000001 . Score: 0.43952078\n",
      "2r0_inverse: 0.0005700000000000001 . Score: 0.44024038\n",
      "2r0_inverse: -0.0005750000000000001 . Score: 0.4408782\n",
      "2r0_inverse: 0.0005750000000000001 . Score: 0.44163924\n",
      "2r0_inverse: -0.00058 . Score: 0.44228014\n",
      "2r0_inverse: 0.00058 . Score: 0.44315624\n",
      "2r0_inverse: -0.000585 . Score: 0.44401085\n",
      "2r0_inverse: 0.000585 . Score: 0.44446754\n",
      "2r0_inverse: -0.00059 . Score: 0.44512498\n",
      "2r0_inverse: 0.00059 . Score: 0.44589654\n",
      "2r0_inverse: -0.000595 . Score: 0.44656616\n",
      "2r0_inverse: 0.000595 . Score: 0.4470569\n",
      "2r0_inverse: -0.0006000000000000001 . Score: 0.44813615\n",
      "2r0_inverse: 0.0006000000000000001 . Score: 0.44873327\n",
      "2r0_inverse: -0.0006050000000000001 . Score: 0.4489783\n",
      "2r0_inverse: 0.0006050000000000001 . Score: 0.4496837\n",
      "2r0_inverse: -0.0006100000000000001 . Score: 0.4504179\n",
      "2r0_inverse: 0.0006100000000000001 . Score: 0.4512725\n",
      "2r0_inverse: -0.0006150000000000001 . Score: 0.45199794\n",
      "2r0_inverse: 0.0006150000000000001 . Score: 0.45255157\n",
      "2r0_inverse: -0.00062 . Score: 0.45318523\n",
      "2r0_inverse: 0.00062 . Score: 0.4533395\n",
      "2r0_inverse: -0.000625 . Score: 0.4542548\n",
      "2r0_inverse: 0.000625 . Score: 0.45442435\n",
      "2r0_inverse: -0.00063 . Score: 0.45515957\n",
      "2r0_inverse: 0.00063 . Score: 0.45574188\n",
      "2r0_inverse: -0.000635 . Score: 0.45622826\n",
      "2r0_inverse: 0.000635 . Score: 0.45686287\n",
      "2r0_inverse: -0.00064 . Score: 0.45752725\n",
      "2r0_inverse: 0.00064 . Score: 0.45816973\n",
      "2r0_inverse: -0.0006450000000000001 . Score: 0.45875314\n",
      "2r0_inverse: 0.0006450000000000001 . Score: 0.4595208\n",
      "2r0_inverse: -0.0006500000000000001 . Score: 0.4601953\n",
      "2r0_inverse: 0.0006500000000000001 . Score: 0.4608972\n",
      "2r0_inverse: -0.0006550000000000001 . Score: 0.46151614\n",
      "2r0_inverse: 0.0006550000000000001 . Score: 0.4617966\n",
      "2r0_inverse: -0.0006600000000000001 . Score: 0.46207574\n",
      "2r0_inverse: 0.0006600000000000001 . Score: 0.46245033\n",
      "2r0_inverse: -0.000665 . Score: 0.46294448\n",
      "2r0_inverse: 0.000665 . Score: 0.46364528\n",
      "2r0_inverse: -0.00067 . Score: 0.46410048\n",
      "2r0_inverse: 0.00067 . Score: 0.46466362\n",
      "2r0_inverse: -0.000675 . Score: 0.4653383\n",
      "2r0_inverse: 0.000675 . Score: 0.4656546\n",
      "2r0_inverse: -0.00068 . Score: 0.46622464\n",
      "2r0_inverse: 0.00068 . Score: 0.46669847\n",
      "2r0_inverse: -0.0006850000000000001 . Score: 0.46718448\n",
      "2r0_inverse: 0.0006850000000000001 . Score: 0.46821108\n",
      "2r0_inverse: -0.0006900000000000001 . Score: 0.46862924\n",
      "2r0_inverse: 0.0006900000000000001 . Score: 0.4690755\n",
      "2r0_inverse: -0.0006950000000000001 . Score: 0.46959874\n",
      "2r0_inverse: 0.0006950000000000001 . Score: 0.4701318\n",
      "2r0_inverse: -0.0007000000000000001 . Score: 0.4705897\n",
      "2r0_inverse: 0.0007000000000000001 . Score: 0.4709376\n",
      "2r0_inverse: -0.000705 . Score: 0.4711817\n",
      "2r0_inverse: 0.000705 . Score: 0.47197157\n",
      "2r0_inverse: -0.00071 . Score: 0.472401\n",
      "2r0_inverse: 0.00071 . Score: 0.47285402\n",
      "2r0_inverse: -0.000715 . Score: 0.47338605\n",
      "2r0_inverse: 0.000715 . Score: 0.4739234\n",
      "2r0_inverse: -0.00072 . Score: 0.4744229\n",
      "2r0_inverse: 0.00072 . Score: 0.47479126\n",
      "2r0_inverse: -0.0007250000000000001 . Score: 0.4754543\n",
      "2r0_inverse: 0.0007250000000000001 . Score: 0.47578782\n",
      "2r0_inverse: -0.0007300000000000001 . Score: 0.47612983\n",
      "2r0_inverse: 0.0007300000000000001 . Score: 0.47662628\n",
      "2r0_inverse: -0.0007350000000000001 . Score: 0.47702387\n",
      "2r0_inverse: 0.0007350000000000001 . Score: 0.4775724\n",
      "2r0_inverse: -0.0007400000000000001 . Score: 0.47778258\n",
      "2r0_inverse: 0.0007400000000000001 . Score: 0.4779999\n",
      "2r0_inverse: -0.0007450000000000001 . Score: 0.47851342\n",
      "2r0_inverse: 0.0007450000000000001 . Score: 0.47912705\n",
      "2r0_inverse: -0.00075 . Score: 0.47943592\n",
      "2r0_inverse: 0.00075 . Score: 0.4797844\n",
      "2r0_inverse: -0.000755 . Score: 0.48000336\n",
      "2r0_inverse: 0.000755 . Score: 0.48065948\n",
      "2r0_inverse: -0.00076 . Score: 0.48090786\n",
      "2r0_inverse: 0.00076 . Score: 0.48108315\n",
      "2r0_inverse: -0.0007650000000000001 . Score: 0.48133397\n",
      "2r0_inverse: 0.0007650000000000001 . Score: 0.4821632\n",
      "2r0_inverse: -0.0007700000000000001 . Score: 0.48246828\n",
      "2r0_inverse: 0.0007700000000000001 . Score: 0.48285255\n",
      "2r0_inverse: -0.0007750000000000001 . Score: 0.48323303\n",
      "2r0_inverse: 0.0007750000000000001 . Score: 0.48349285\n",
      "2r0_inverse: -0.0007800000000000001 . Score: 0.48370636\n",
      "2r0_inverse: 0.0007800000000000001 . Score: 0.48400614\n",
      "2r0_inverse: -0.0007850000000000001 . Score: 0.4843295\n",
      "2r0_inverse: 0.0007850000000000001 . Score: 0.48489183\n",
      "2r0_inverse: -0.00079 . Score: 0.4853081\n",
      "2r0_inverse: 0.00079 . Score: 0.4853202\n",
      "2r0_inverse: -0.000795 . Score: 0.48563352\n",
      "2r0_inverse: 0.000795 . Score: 0.48564184\n",
      "2r0_inverse: -0.0008 . Score: 0.48596758\n",
      "2r0_inverse: 0.0008 . Score: 0.48620772\n",
      "2r0_inverse: -0.000805 . Score: 0.48687083\n",
      "2r0_inverse: 0.000805 . Score: 0.4871788\n",
      "2r0_inverse: -0.0008100000000000001 . Score: 0.48750567\n",
      "2r0_inverse: 0.0008100000000000001 . Score: 0.48799413\n",
      "2r0_inverse: -0.0008150000000000001 . Score: 0.48850203\n",
      "2r0_inverse: 0.0008150000000000001 . Score: 0.48862034\n",
      "2r0_inverse: -0.0008200000000000001 . Score: 0.48889694\n",
      "2r0_inverse: 0.0008200000000000001 . Score: 0.48927402\n",
      "2r0_inverse: -0.0008250000000000001 . Score: 0.4898725\n",
      "2r0_inverse: 0.0008250000000000001 . Score: 0.4901774\n",
      "2r0_inverse: -0.0008300000000000001 . Score: 0.49072286\n",
      "2r0_inverse: 0.0008300000000000001 . Score: 0.49093685\n",
      "2r0_inverse: -0.000835 . Score: 0.4911391\n",
      "2r0_inverse: 0.000835 . Score: 0.4916922\n",
      "2r0_inverse: -0.00084 . Score: 0.49206918\n",
      "2r0_inverse: 0.00084 . Score: 0.49218908\n",
      "2r0_inverse: -0.000845 . Score: 0.4924671\n",
      "2r0_inverse: 0.000845 . Score: 0.49261704\n"
     ]
    },
    {
     "name": "stdout",
     "output_type": "stream",
     "text": [
      "2r0_inverse: -0.0008500000000000001 . Score: 0.49293104\n",
      "2r0_inverse: 0.0008500000000000001 . Score: 0.49328095\n",
      "2r0_inverse: -0.0008550000000000001 . Score: 0.49360955\n",
      "2r0_inverse: 0.0008550000000000001 . Score: 0.4940549\n",
      "2r0_inverse: -0.0008600000000000001 . Score: 0.4946259\n",
      "2r0_inverse: 0.0008600000000000001 . Score: 0.49487472\n",
      "2r0_inverse: -0.0008650000000000001 . Score: 0.4951072\n",
      "2r0_inverse: 0.0008650000000000001 . Score: 0.4952157\n",
      "2r0_inverse: -0.0008700000000000001 . Score: 0.49539495\n",
      "2r0_inverse: 0.0008700000000000001 . Score: 0.4955734\n",
      "2r0_inverse: -0.000875 . Score: 0.49579412\n",
      "2r0_inverse: 0.000875 . Score: 0.49615234\n",
      "2r0_inverse: -0.00088 . Score: 0.49658534\n",
      "2r0_inverse: 0.00088 . Score: 0.49665725\n",
      "2r0_inverse: -0.000885 . Score: 0.4969219\n",
      "2r0_inverse: 0.000885 . Score: 0.49719942\n",
      "2r0_inverse: -0.0008900000000000001 . Score: 0.49753463\n",
      "2r0_inverse: 0.0008900000000000001 . Score: 0.49776846\n",
      "2r0_inverse: -0.0008950000000000001 . Score: 0.49794945\n",
      "2r0_inverse: 0.0008950000000000001 . Score: 0.4983945\n",
      "2r0_inverse: -0.0009000000000000001 . Score: 0.4985376\n",
      "2r0_inverse: 0.0009000000000000001 . Score: 0.49889398\n",
      "2r0_inverse: -0.0009050000000000001 . Score: 0.49945086\n",
      "2r0_inverse: 0.0009050000000000001 . Score: 0.499662\n",
      "2r0_inverse: -0.0009100000000000001 . Score: 0.500048\n",
      "2r0_inverse: 0.0009100000000000001 . Score: 0.50005317\n",
      "2r0_inverse: -0.0009150000000000001 . Score: 0.5001876\n",
      "2r0_inverse: 0.0009150000000000001 . Score: 0.5002834\n",
      "2r0_inverse: -0.00092 . Score: 0.5005213\n",
      "2r0_inverse: 0.00092 . Score: 0.50092024\n",
      "2r0_inverse: -0.000925 . Score: 0.50116765\n",
      "2r0_inverse: 0.000925 . Score: 0.5012717\n",
      "2r0_inverse: -0.00093 . Score: 0.50159997\n",
      "2r0_inverse: 0.00093 . Score: 0.50173724\n",
      "2r0_inverse: -0.0009350000000000001 . Score: 0.5018805\n",
      "2r0_inverse: 0.0009350000000000001 . Score: 0.5025092\n",
      "2r0_inverse: -0.0009400000000000001 . Score: 0.5027338\n",
      "2r0_inverse: 0.0009400000000000001 . Score: 0.5029795\n",
      "2r0_inverse: -0.0009450000000000001 . Score: 0.50314355\n",
      "2r0_inverse: 0.0009450000000000001 . Score: 0.5033023\n",
      "2r0_inverse: -0.0009500000000000001 . Score: 0.50343555\n",
      "2r0_inverse: 0.0009500000000000001 . Score: 0.50374734\n",
      "2r0_inverse: -0.0009550000000000001 . Score: 0.50392455\n",
      "2r0_inverse: 0.0009550000000000001 . Score: 0.50390345\n",
      "2r0_inverse: -0.0009600000000000001 . Score: 0.50391895\n",
      "2r0_inverse: 0.0009600000000000001 . Score: 0.5040909\n",
      "2r0_inverse: -0.000965 . Score: 0.50428736\n",
      "2r0_inverse: 0.000965 . Score: 0.5045232\n",
      "2r0_inverse: -0.00097 . Score: 0.50461257\n",
      "2r0_inverse: 0.00097 . Score: 0.50494295\n",
      "2r0_inverse: -0.0009750000000000001 . Score: 0.50508946\n",
      "2r0_inverse: 0.0009750000000000001 . Score: 0.5052359\n"
     ]
    },
    {
     "name": "stderr",
     "output_type": "stream",
     "text": [
      "<ipython-input-3-62b85426b902>:106: RuntimeWarning: invalid value encountered in arccos\n",
      "  dfh['a1'] = dfh['a0'].values - np.nan_to_num(np.arccos(mm*ii*dfh['rt'].values))\n"
     ]
    },
    {
     "name": "stdout",
     "output_type": "stream",
     "text": [
      "2r0_inverse: -0.0009800000000000002 . Score: 0.5051782\n"
     ]
    },
    {
     "name": "stderr",
     "output_type": "stream",
     "text": [
      "<ipython-input-3-62b85426b902>:106: RuntimeWarning: invalid value encountered in arccos\n",
      "  dfh['a1'] = dfh['a0'].values - np.nan_to_num(np.arccos(mm*ii*dfh['rt'].values))\n"
     ]
    },
    {
     "name": "stdout",
     "output_type": "stream",
     "text": [
      "2r0_inverse: 0.0009800000000000002 . Score: 0.50548077\n"
     ]
    },
    {
     "name": "stderr",
     "output_type": "stream",
     "text": [
      "<ipython-input-3-62b85426b902>:106: RuntimeWarning: invalid value encountered in arccos\n",
      "  dfh['a1'] = dfh['a0'].values - np.nan_to_num(np.arccos(mm*ii*dfh['rt'].values))\n"
     ]
    },
    {
     "name": "stdout",
     "output_type": "stream",
     "text": [
      "2r0_inverse: -0.000985 . Score: 0.5057424\n"
     ]
    },
    {
     "name": "stderr",
     "output_type": "stream",
     "text": [
      "<ipython-input-3-62b85426b902>:106: RuntimeWarning: invalid value encountered in arccos\n",
      "  dfh['a1'] = dfh['a0'].values - np.nan_to_num(np.arccos(mm*ii*dfh['rt'].values))\n"
     ]
    },
    {
     "name": "stdout",
     "output_type": "stream",
     "text": [
      "2r0_inverse: 0.000985 . Score: 0.50596905\n"
     ]
    },
    {
     "name": "stderr",
     "output_type": "stream",
     "text": [
      "<ipython-input-3-62b85426b902>:106: RuntimeWarning: invalid value encountered in arccos\n",
      "  dfh['a1'] = dfh['a0'].values - np.nan_to_num(np.arccos(mm*ii*dfh['rt'].values))\n"
     ]
    },
    {
     "name": "stdout",
     "output_type": "stream",
     "text": [
      "2r0_inverse: -0.00099 . Score: 0.5061874\n"
     ]
    },
    {
     "name": "stderr",
     "output_type": "stream",
     "text": [
      "<ipython-input-3-62b85426b902>:106: RuntimeWarning: invalid value encountered in arccos\n",
      "  dfh['a1'] = dfh['a0'].values - np.nan_to_num(np.arccos(mm*ii*dfh['rt'].values))\n"
     ]
    },
    {
     "name": "stdout",
     "output_type": "stream",
     "text": [
      "2r0_inverse: 0.00099 . Score: 0.5063223\n"
     ]
    },
    {
     "name": "stderr",
     "output_type": "stream",
     "text": [
      "<ipython-input-3-62b85426b902>:106: RuntimeWarning: invalid value encountered in arccos\n",
      "  dfh['a1'] = dfh['a0'].values - np.nan_to_num(np.arccos(mm*ii*dfh['rt'].values))\n"
     ]
    },
    {
     "name": "stdout",
     "output_type": "stream",
     "text": [
      "2r0_inverse: -0.000995 . Score: 0.50640684\n"
     ]
    },
    {
     "name": "stderr",
     "output_type": "stream",
     "text": [
      "<ipython-input-3-62b85426b902>:106: RuntimeWarning: invalid value encountered in arccos\n",
      "  dfh['a1'] = dfh['a0'].values - np.nan_to_num(np.arccos(mm*ii*dfh['rt'].values))\n"
     ]
    },
    {
     "name": "stdout",
     "output_type": "stream",
     "text": [
      "2r0_inverse: 0.000995 . Score: 0.5066753\n"
     ]
    },
    {
     "name": "stderr",
     "output_type": "stream",
     "text": [
      "<ipython-input-3-62b85426b902>:106: RuntimeWarning: invalid value encountered in arccos\n",
      "  dfh['a1'] = dfh['a0'].values - np.nan_to_num(np.arccos(mm*ii*dfh['rt'].values))\n"
     ]
    },
    {
     "name": "stdout",
     "output_type": "stream",
     "text": [
      "2r0_inverse: -0.001 . Score: 0.5068325\n"
     ]
    },
    {
     "name": "stderr",
     "output_type": "stream",
     "text": [
      "<ipython-input-3-62b85426b902>:106: RuntimeWarning: invalid value encountered in arccos\n",
      "  dfh['a1'] = dfh['a0'].values - np.nan_to_num(np.arccos(mm*ii*dfh['rt'].values))\n"
     ]
    },
    {
     "name": "stdout",
     "output_type": "stream",
     "text": [
      "2r0_inverse: 0.001 . Score: 0.50703144\n"
     ]
    },
    {
     "name": "stderr",
     "output_type": "stream",
     "text": [
      "<ipython-input-3-62b85426b902>:106: RuntimeWarning: invalid value encountered in arccos\n",
      "  dfh['a1'] = dfh['a0'].values - np.nan_to_num(np.arccos(mm*ii*dfh['rt'].values))\n"
     ]
    },
    {
     "name": "stdout",
     "output_type": "stream",
     "text": [
      "2r0_inverse: -0.001005 . Score: 0.5071793\n"
     ]
    },
    {
     "name": "stderr",
     "output_type": "stream",
     "text": [
      "<ipython-input-3-62b85426b902>:106: RuntimeWarning: invalid value encountered in arccos\n",
      "  dfh['a1'] = dfh['a0'].values - np.nan_to_num(np.arccos(mm*ii*dfh['rt'].values))\n"
     ]
    },
    {
     "name": "stdout",
     "output_type": "stream",
     "text": [
      "2r0_inverse: 0.001005 . Score: 0.5075855\n"
     ]
    },
    {
     "name": "stderr",
     "output_type": "stream",
     "text": [
      "<ipython-input-3-62b85426b902>:106: RuntimeWarning: invalid value encountered in arccos\n",
      "  dfh['a1'] = dfh['a0'].values - np.nan_to_num(np.arccos(mm*ii*dfh['rt'].values))\n"
     ]
    },
    {
     "name": "stdout",
     "output_type": "stream",
     "text": [
      "2r0_inverse: -0.00101 . Score: 0.50796664\n"
     ]
    },
    {
     "name": "stderr",
     "output_type": "stream",
     "text": [
      "<ipython-input-3-62b85426b902>:106: RuntimeWarning: invalid value encountered in arccos\n",
      "  dfh['a1'] = dfh['a0'].values - np.nan_to_num(np.arccos(mm*ii*dfh['rt'].values))\n"
     ]
    },
    {
     "name": "stdout",
     "output_type": "stream",
     "text": [
      "2r0_inverse: 0.00101 . Score: 0.5082002\n"
     ]
    },
    {
     "name": "stderr",
     "output_type": "stream",
     "text": [
      "<ipython-input-3-62b85426b902>:106: RuntimeWarning: invalid value encountered in arccos\n",
      "  dfh['a1'] = dfh['a0'].values - np.nan_to_num(np.arccos(mm*ii*dfh['rt'].values))\n"
     ]
    },
    {
     "name": "stdout",
     "output_type": "stream",
     "text": [
      "2r0_inverse: -0.001015 . Score: 0.50843287\n"
     ]
    },
    {
     "name": "stderr",
     "output_type": "stream",
     "text": [
      "<ipython-input-3-62b85426b902>:106: RuntimeWarning: invalid value encountered in arccos\n",
      "  dfh['a1'] = dfh['a0'].values - np.nan_to_num(np.arccos(mm*ii*dfh['rt'].values))\n"
     ]
    },
    {
     "name": "stdout",
     "output_type": "stream",
     "text": [
      "2r0_inverse: 0.001015 . Score: 0.50847316\n"
     ]
    },
    {
     "name": "stderr",
     "output_type": "stream",
     "text": [
      "<ipython-input-3-62b85426b902>:106: RuntimeWarning: invalid value encountered in arccos\n",
      "  dfh['a1'] = dfh['a0'].values - np.nan_to_num(np.arccos(mm*ii*dfh['rt'].values))\n"
     ]
    },
    {
     "name": "stdout",
     "output_type": "stream",
     "text": [
      "2r0_inverse: -0.00102 . Score: 0.5086812\n"
     ]
    },
    {
     "name": "stderr",
     "output_type": "stream",
     "text": [
      "<ipython-input-3-62b85426b902>:106: RuntimeWarning: invalid value encountered in arccos\n",
      "  dfh['a1'] = dfh['a0'].values - np.nan_to_num(np.arccos(mm*ii*dfh['rt'].values))\n"
     ]
    },
    {
     "name": "stdout",
     "output_type": "stream",
     "text": [
      "2r0_inverse: 0.00102 . Score: 0.50898165\n"
     ]
    },
    {
     "name": "stderr",
     "output_type": "stream",
     "text": [
      "<ipython-input-3-62b85426b902>:106: RuntimeWarning: invalid value encountered in arccos\n",
      "  dfh['a1'] = dfh['a0'].values - np.nan_to_num(np.arccos(mm*ii*dfh['rt'].values))\n"
     ]
    },
    {
     "name": "stdout",
     "output_type": "stream",
     "text": [
      "2r0_inverse: -0.001025 . Score: 0.50917375\n"
     ]
    },
    {
     "name": "stderr",
     "output_type": "stream",
     "text": [
      "<ipython-input-3-62b85426b902>:106: RuntimeWarning: invalid value encountered in arccos\n",
      "  dfh['a1'] = dfh['a0'].values - np.nan_to_num(np.arccos(mm*ii*dfh['rt'].values))\n"
     ]
    },
    {
     "name": "stdout",
     "output_type": "stream",
     "text": [
      "2r0_inverse: 0.001025 . Score: 0.50918865\n"
     ]
    },
    {
     "name": "stderr",
     "output_type": "stream",
     "text": [
      "<ipython-input-3-62b85426b902>:106: RuntimeWarning: invalid value encountered in arccos\n",
      "  dfh['a1'] = dfh['a0'].values - np.nan_to_num(np.arccos(mm*ii*dfh['rt'].values))\n"
     ]
    },
    {
     "name": "stdout",
     "output_type": "stream",
     "text": [
      "2r0_inverse: -0.00103 . Score: 0.50941175\n"
     ]
    },
    {
     "name": "stderr",
     "output_type": "stream",
     "text": [
      "<ipython-input-3-62b85426b902>:106: RuntimeWarning: invalid value encountered in arccos\n",
      "  dfh['a1'] = dfh['a0'].values - np.nan_to_num(np.arccos(mm*ii*dfh['rt'].values))\n"
     ]
    },
    {
     "name": "stdout",
     "output_type": "stream",
     "text": [
      "2r0_inverse: 0.00103 . Score: 0.50964016\n"
     ]
    },
    {
     "name": "stderr",
     "output_type": "stream",
     "text": [
      "<ipython-input-3-62b85426b902>:106: RuntimeWarning: invalid value encountered in arccos\n",
      "  dfh['a1'] = dfh['a0'].values - np.nan_to_num(np.arccos(mm*ii*dfh['rt'].values))\n"
     ]
    },
    {
     "name": "stdout",
     "output_type": "stream",
     "text": [
      "2r0_inverse: -0.0010350000000000001 . Score: 0.50982606\n"
     ]
    },
    {
     "name": "stderr",
     "output_type": "stream",
     "text": [
      "<ipython-input-3-62b85426b902>:106: RuntimeWarning: invalid value encountered in arccos\n",
      "  dfh['a1'] = dfh['a0'].values - np.nan_to_num(np.arccos(mm*ii*dfh['rt'].values))\n"
     ]
    },
    {
     "name": "stdout",
     "output_type": "stream",
     "text": [
      "2r0_inverse: 0.0010350000000000001 . Score: 0.50993896\n"
     ]
    },
    {
     "name": "stderr",
     "output_type": "stream",
     "text": [
      "<ipython-input-3-62b85426b902>:106: RuntimeWarning: invalid value encountered in arccos\n",
      "  dfh['a1'] = dfh['a0'].values - np.nan_to_num(np.arccos(mm*ii*dfh['rt'].values))\n"
     ]
    },
    {
     "name": "stdout",
     "output_type": "stream",
     "text": [
      "2r0_inverse: -0.0010400000000000001 . Score: 0.51021147\n"
     ]
    },
    {
     "name": "stderr",
     "output_type": "stream",
     "text": [
      "<ipython-input-3-62b85426b902>:106: RuntimeWarning: invalid value encountered in arccos\n",
      "  dfh['a1'] = dfh['a0'].values - np.nan_to_num(np.arccos(mm*ii*dfh['rt'].values))\n"
     ]
    },
    {
     "name": "stdout",
     "output_type": "stream",
     "text": [
      "2r0_inverse: 0.0010400000000000001 . Score: 0.5100968\n"
     ]
    },
    {
     "name": "stderr",
     "output_type": "stream",
     "text": [
      "<ipython-input-3-62b85426b902>:106: RuntimeWarning: invalid value encountered in arccos\n",
      "  dfh['a1'] = dfh['a0'].values - np.nan_to_num(np.arccos(mm*ii*dfh['rt'].values))\n"
     ]
    },
    {
     "name": "stdout",
     "output_type": "stream",
     "text": [
      "2r0_inverse: -0.0010450000000000001 . Score: 0.51016694\n"
     ]
    },
    {
     "name": "stderr",
     "output_type": "stream",
     "text": [
      "<ipython-input-3-62b85426b902>:106: RuntimeWarning: invalid value encountered in arccos\n",
      "  dfh['a1'] = dfh['a0'].values - np.nan_to_num(np.arccos(mm*ii*dfh['rt'].values))\n"
     ]
    },
    {
     "name": "stdout",
     "output_type": "stream",
     "text": [
      "2r0_inverse: 0.0010450000000000001 . Score: 0.5103724\n"
     ]
    },
    {
     "name": "stderr",
     "output_type": "stream",
     "text": [
      "<ipython-input-3-62b85426b902>:106: RuntimeWarning: invalid value encountered in arccos\n",
      "  dfh['a1'] = dfh['a0'].values - np.nan_to_num(np.arccos(mm*ii*dfh['rt'].values))\n"
     ]
    },
    {
     "name": "stdout",
     "output_type": "stream",
     "text": [
      "2r0_inverse: -0.0010500000000000002 . Score: 0.51037925\n"
     ]
    },
    {
     "name": "stderr",
     "output_type": "stream",
     "text": [
      "<ipython-input-3-62b85426b902>:106: RuntimeWarning: invalid value encountered in arccos\n",
      "  dfh['a1'] = dfh['a0'].values - np.nan_to_num(np.arccos(mm*ii*dfh['rt'].values))\n"
     ]
    },
    {
     "name": "stdout",
     "output_type": "stream",
     "text": [
      "2r0_inverse: 0.0010500000000000002 . Score: 0.510485\n"
     ]
    },
    {
     "name": "stderr",
     "output_type": "stream",
     "text": [
      "<ipython-input-3-62b85426b902>:106: RuntimeWarning: invalid value encountered in arccos\n",
      "  dfh['a1'] = dfh['a0'].values - np.nan_to_num(np.arccos(mm*ii*dfh['rt'].values))\n"
     ]
    },
    {
     "name": "stdout",
     "output_type": "stream",
     "text": [
      "2r0_inverse: -0.0010550000000000002 . Score: 0.5107136\n"
     ]
    },
    {
     "name": "stderr",
     "output_type": "stream",
     "text": [
      "<ipython-input-3-62b85426b902>:106: RuntimeWarning: invalid value encountered in arccos\n",
      "  dfh['a1'] = dfh['a0'].values - np.nan_to_num(np.arccos(mm*ii*dfh['rt'].values))\n"
     ]
    },
    {
     "name": "stdout",
     "output_type": "stream",
     "text": [
      "2r0_inverse: 0.0010550000000000002 . Score: 0.5108691\n"
     ]
    },
    {
     "name": "stderr",
     "output_type": "stream",
     "text": [
      "<ipython-input-3-62b85426b902>:106: RuntimeWarning: invalid value encountered in arccos\n",
      "  dfh['a1'] = dfh['a0'].values - np.nan_to_num(np.arccos(mm*ii*dfh['rt'].values))\n"
     ]
    },
    {
     "name": "stdout",
     "output_type": "stream",
     "text": [
      "2r0_inverse: -0.0010600000000000002 . Score: 0.51097363\n"
     ]
    },
    {
     "name": "stderr",
     "output_type": "stream",
     "text": [
      "<ipython-input-3-62b85426b902>:106: RuntimeWarning: invalid value encountered in arccos\n",
      "  dfh['a1'] = dfh['a0'].values - np.nan_to_num(np.arccos(mm*ii*dfh['rt'].values))\n"
     ]
    },
    {
     "name": "stdout",
     "output_type": "stream",
     "text": [
      "2r0_inverse: 0.0010600000000000002 . Score: 0.5111468\n"
     ]
    },
    {
     "name": "stderr",
     "output_type": "stream",
     "text": [
      "<ipython-input-3-62b85426b902>:106: RuntimeWarning: invalid value encountered in arccos\n",
      "  dfh['a1'] = dfh['a0'].values - np.nan_to_num(np.arccos(mm*ii*dfh['rt'].values))\n"
     ]
    },
    {
     "name": "stdout",
     "output_type": "stream",
     "text": [
      "2r0_inverse: -0.0010650000000000002 . Score: 0.51132816\n"
     ]
    },
    {
     "name": "stderr",
     "output_type": "stream",
     "text": [
      "<ipython-input-3-62b85426b902>:106: RuntimeWarning: invalid value encountered in arccos\n",
      "  dfh['a1'] = dfh['a0'].values - np.nan_to_num(np.arccos(mm*ii*dfh['rt'].values))\n"
     ]
    },
    {
     "name": "stdout",
     "output_type": "stream",
     "text": [
      "2r0_inverse: 0.0010650000000000002 . Score: 0.5115872\n"
     ]
    },
    {
     "name": "stderr",
     "output_type": "stream",
     "text": [
      "<ipython-input-3-62b85426b902>:106: RuntimeWarning: invalid value encountered in arccos\n",
      "  dfh['a1'] = dfh['a0'].values - np.nan_to_num(np.arccos(mm*ii*dfh['rt'].values))\n"
     ]
    },
    {
     "name": "stdout",
     "output_type": "stream",
     "text": [
      "2r0_inverse: -0.00107 . Score: 0.51211363\n"
     ]
    },
    {
     "name": "stderr",
     "output_type": "stream",
     "text": [
      "<ipython-input-3-62b85426b902>:106: RuntimeWarning: invalid value encountered in arccos\n",
      "  dfh['a1'] = dfh['a0'].values - np.nan_to_num(np.arccos(mm*ii*dfh['rt'].values))\n"
     ]
    },
    {
     "name": "stdout",
     "output_type": "stream",
     "text": [
      "2r0_inverse: 0.00107 . Score: 0.51230204\n"
     ]
    },
    {
     "name": "stderr",
     "output_type": "stream",
     "text": [
      "<ipython-input-3-62b85426b902>:106: RuntimeWarning: invalid value encountered in arccos\n",
      "  dfh['a1'] = dfh['a0'].values - np.nan_to_num(np.arccos(mm*ii*dfh['rt'].values))\n"
     ]
    },
    {
     "name": "stdout",
     "output_type": "stream",
     "text": [
      "2r0_inverse: -0.001075 . Score: 0.5124506\n"
     ]
    },
    {
     "name": "stderr",
     "output_type": "stream",
     "text": [
      "<ipython-input-3-62b85426b902>:106: RuntimeWarning: invalid value encountered in arccos\n",
      "  dfh['a1'] = dfh['a0'].values - np.nan_to_num(np.arccos(mm*ii*dfh['rt'].values))\n"
     ]
    },
    {
     "name": "stdout",
     "output_type": "stream",
     "text": [
      "2r0_inverse: 0.001075 . Score: 0.5124143\n"
     ]
    },
    {
     "name": "stderr",
     "output_type": "stream",
     "text": [
      "<ipython-input-3-62b85426b902>:106: RuntimeWarning: invalid value encountered in arccos\n",
      "  dfh['a1'] = dfh['a0'].values - np.nan_to_num(np.arccos(mm*ii*dfh['rt'].values))\n"
     ]
    },
    {
     "name": "stdout",
     "output_type": "stream",
     "text": [
      "2r0_inverse: -0.00108 . Score: 0.5126422\n"
     ]
    },
    {
     "name": "stderr",
     "output_type": "stream",
     "text": [
      "<ipython-input-3-62b85426b902>:106: RuntimeWarning: invalid value encountered in arccos\n",
      "  dfh['a1'] = dfh['a0'].values - np.nan_to_num(np.arccos(mm*ii*dfh['rt'].values))\n"
     ]
    },
    {
     "name": "stdout",
     "output_type": "stream",
     "text": [
      "2r0_inverse: 0.00108 . Score: 0.5130007\n"
     ]
    },
    {
     "name": "stderr",
     "output_type": "stream",
     "text": [
      "<ipython-input-3-62b85426b902>:106: RuntimeWarning: invalid value encountered in arccos\n",
      "  dfh['a1'] = dfh['a0'].values - np.nan_to_num(np.arccos(mm*ii*dfh['rt'].values))\n"
     ]
    },
    {
     "name": "stdout",
     "output_type": "stream",
     "text": [
      "2r0_inverse: -0.001085 . Score: 0.513021\n"
     ]
    },
    {
     "name": "stderr",
     "output_type": "stream",
     "text": [
      "<ipython-input-3-62b85426b902>:106: RuntimeWarning: invalid value encountered in arccos\n",
      "  dfh['a1'] = dfh['a0'].values - np.nan_to_num(np.arccos(mm*ii*dfh['rt'].values))\n"
     ]
    },
    {
     "name": "stdout",
     "output_type": "stream",
     "text": [
      "2r0_inverse: 0.001085 . Score: 0.51303387\n"
     ]
    },
    {
     "name": "stderr",
     "output_type": "stream",
     "text": [
      "<ipython-input-3-62b85426b902>:106: RuntimeWarning: invalid value encountered in arccos\n",
      "  dfh['a1'] = dfh['a0'].values - np.nan_to_num(np.arccos(mm*ii*dfh['rt'].values))\n"
     ]
    },
    {
     "name": "stdout",
     "output_type": "stream",
     "text": [
      "2r0_inverse: -0.00109 . Score: 0.5132077\n"
     ]
    },
    {
     "name": "stderr",
     "output_type": "stream",
     "text": [
      "<ipython-input-3-62b85426b902>:106: RuntimeWarning: invalid value encountered in arccos\n",
      "  dfh['a1'] = dfh['a0'].values - np.nan_to_num(np.arccos(mm*ii*dfh['rt'].values))\n"
     ]
    },
    {
     "name": "stdout",
     "output_type": "stream",
     "text": [
      "2r0_inverse: 0.00109 . Score: 0.5132555\n"
     ]
    },
    {
     "name": "stderr",
     "output_type": "stream",
     "text": [
      "<ipython-input-3-62b85426b902>:106: RuntimeWarning: invalid value encountered in arccos\n",
      "  dfh['a1'] = dfh['a0'].values - np.nan_to_num(np.arccos(mm*ii*dfh['rt'].values))\n"
     ]
    },
    {
     "name": "stdout",
     "output_type": "stream",
     "text": [
      "2r0_inverse: -0.001095 . Score: 0.5136553\n"
     ]
    },
    {
     "name": "stderr",
     "output_type": "stream",
     "text": [
      "<ipython-input-3-62b85426b902>:106: RuntimeWarning: invalid value encountered in arccos\n",
      "  dfh['a1'] = dfh['a0'].values - np.nan_to_num(np.arccos(mm*ii*dfh['rt'].values))\n"
     ]
    },
    {
     "name": "stdout",
     "output_type": "stream",
     "text": [
      "2r0_inverse: 0.001095 . Score: 0.51399815\n"
     ]
    },
    {
     "name": "stderr",
     "output_type": "stream",
     "text": [
      "<ipython-input-3-62b85426b902>:106: RuntimeWarning: invalid value encountered in arccos\n",
      "  dfh['a1'] = dfh['a0'].values - np.nan_to_num(np.arccos(mm*ii*dfh['rt'].values))\n"
     ]
    },
    {
     "name": "stdout",
     "output_type": "stream",
     "text": [
      "2r0_inverse: -0.0011 . Score: 0.51404\n"
     ]
    },
    {
     "name": "stderr",
     "output_type": "stream",
     "text": [
      "<ipython-input-3-62b85426b902>:106: RuntimeWarning: invalid value encountered in arccos\n",
      "  dfh['a1'] = dfh['a0'].values - np.nan_to_num(np.arccos(mm*ii*dfh['rt'].values))\n"
     ]
    },
    {
     "name": "stdout",
     "output_type": "stream",
     "text": [
      "2r0_inverse: 0.0011 . Score: 0.5143094\n"
     ]
    },
    {
     "name": "stderr",
     "output_type": "stream",
     "text": [
      "<ipython-input-3-62b85426b902>:106: RuntimeWarning: invalid value encountered in arccos\n",
      "  dfh['a1'] = dfh['a0'].values - np.nan_to_num(np.arccos(mm*ii*dfh['rt'].values))\n"
     ]
    },
    {
     "name": "stdout",
     "output_type": "stream",
     "text": [
      "2r0_inverse: -0.001105 . Score: 0.5145297\n"
     ]
    },
    {
     "name": "stderr",
     "output_type": "stream",
     "text": [
      "<ipython-input-3-62b85426b902>:106: RuntimeWarning: invalid value encountered in arccos\n",
      "  dfh['a1'] = dfh['a0'].values - np.nan_to_num(np.arccos(mm*ii*dfh['rt'].values))\n"
     ]
    },
    {
     "name": "stdout",
     "output_type": "stream",
     "text": [
      "2r0_inverse: 0.001105 . Score: 0.51472753\n"
     ]
    },
    {
     "name": "stderr",
     "output_type": "stream",
     "text": [
      "<ipython-input-3-62b85426b902>:106: RuntimeWarning: invalid value encountered in arccos\n",
      "  dfh['a1'] = dfh['a0'].values - np.nan_to_num(np.arccos(mm*ii*dfh['rt'].values))\n"
     ]
    },
    {
     "name": "stdout",
     "output_type": "stream",
     "text": [
      "2r0_inverse: -0.00111 . Score: 0.51481396\n"
     ]
    },
    {
     "name": "stderr",
     "output_type": "stream",
     "text": [
      "<ipython-input-3-62b85426b902>:106: RuntimeWarning: invalid value encountered in arccos\n",
      "  dfh['a1'] = dfh['a0'].values - np.nan_to_num(np.arccos(mm*ii*dfh['rt'].values))\n"
     ]
    },
    {
     "name": "stdout",
     "output_type": "stream",
     "text": [
      "2r0_inverse: 0.00111 . Score: 0.5148149\n"
     ]
    },
    {
     "name": "stderr",
     "output_type": "stream",
     "text": [
      "<ipython-input-3-62b85426b902>:106: RuntimeWarning: invalid value encountered in arccos\n",
      "  dfh['a1'] = dfh['a0'].values - np.nan_to_num(np.arccos(mm*ii*dfh['rt'].values))\n"
     ]
    },
    {
     "name": "stdout",
     "output_type": "stream",
     "text": [
      "2r0_inverse: -0.001115 . Score: 0.51500577\n"
     ]
    },
    {
     "name": "stderr",
     "output_type": "stream",
     "text": [
      "<ipython-input-3-62b85426b902>:106: RuntimeWarning: invalid value encountered in arccos\n",
      "  dfh['a1'] = dfh['a0'].values - np.nan_to_num(np.arccos(mm*ii*dfh['rt'].values))\n"
     ]
    },
    {
     "name": "stdout",
     "output_type": "stream",
     "text": [
      "2r0_inverse: 0.001115 . Score: 0.51511604\n"
     ]
    },
    {
     "name": "stderr",
     "output_type": "stream",
     "text": [
      "<ipython-input-3-62b85426b902>:106: RuntimeWarning: invalid value encountered in arccos\n",
      "  dfh['a1'] = dfh['a0'].values - np.nan_to_num(np.arccos(mm*ii*dfh['rt'].values))\n"
     ]
    },
    {
     "name": "stdout",
     "output_type": "stream",
     "text": [
      "2r0_inverse: -0.0011200000000000001 . Score: 0.5152361\n"
     ]
    },
    {
     "name": "stderr",
     "output_type": "stream",
     "text": [
      "<ipython-input-3-62b85426b902>:106: RuntimeWarning: invalid value encountered in arccos\n",
      "  dfh['a1'] = dfh['a0'].values - np.nan_to_num(np.arccos(mm*ii*dfh['rt'].values))\n"
     ]
    },
    {
     "name": "stdout",
     "output_type": "stream",
     "text": [
      "2r0_inverse: 0.0011200000000000001 . Score: 0.5153381\n"
     ]
    },
    {
     "name": "stderr",
     "output_type": "stream",
     "text": [
      "<ipython-input-3-62b85426b902>:106: RuntimeWarning: invalid value encountered in arccos\n",
      "  dfh['a1'] = dfh['a0'].values - np.nan_to_num(np.arccos(mm*ii*dfh['rt'].values))\n"
     ]
    },
    {
     "name": "stdout",
     "output_type": "stream",
     "text": [
      "2r0_inverse: -0.0011250000000000001 . Score: 0.5151179\n"
     ]
    },
    {
     "name": "stderr",
     "output_type": "stream",
     "text": [
      "<ipython-input-3-62b85426b902>:106: RuntimeWarning: invalid value encountered in arccos\n",
      "  dfh['a1'] = dfh['a0'].values - np.nan_to_num(np.arccos(mm*ii*dfh['rt'].values))\n"
     ]
    },
    {
     "name": "stdout",
     "output_type": "stream",
     "text": [
      "2r0_inverse: 0.0011250000000000001 . Score: 0.5151962\n"
     ]
    },
    {
     "name": "stderr",
     "output_type": "stream",
     "text": [
      "<ipython-input-3-62b85426b902>:106: RuntimeWarning: invalid value encountered in arccos\n",
      "  dfh['a1'] = dfh['a0'].values - np.nan_to_num(np.arccos(mm*ii*dfh['rt'].values))\n"
     ]
    },
    {
     "name": "stdout",
     "output_type": "stream",
     "text": [
      "2r0_inverse: -0.0011300000000000001 . Score: 0.5154561\n"
     ]
    },
    {
     "name": "stderr",
     "output_type": "stream",
     "text": [
      "<ipython-input-3-62b85426b902>:106: RuntimeWarning: invalid value encountered in arccos\n",
      "  dfh['a1'] = dfh['a0'].values - np.nan_to_num(np.arccos(mm*ii*dfh['rt'].values))\n"
     ]
    },
    {
     "name": "stdout",
     "output_type": "stream",
     "text": [
      "2r0_inverse: 0.0011300000000000001 . Score: 0.51534915\n"
     ]
    },
    {
     "name": "stderr",
     "output_type": "stream",
     "text": [
      "<ipython-input-3-62b85426b902>:106: RuntimeWarning: invalid value encountered in arccos\n",
      "  dfh['a1'] = dfh['a0'].values - np.nan_to_num(np.arccos(mm*ii*dfh['rt'].values))\n"
     ]
    },
    {
     "name": "stdout",
     "output_type": "stream",
     "text": [
      "2r0_inverse: -0.0011350000000000002 . Score: 0.51540214\n"
     ]
    },
    {
     "name": "stderr",
     "output_type": "stream",
     "text": [
      "<ipython-input-3-62b85426b902>:106: RuntimeWarning: invalid value encountered in arccos\n",
      "  dfh['a1'] = dfh['a0'].values - np.nan_to_num(np.arccos(mm*ii*dfh['rt'].values))\n"
     ]
    },
    {
     "name": "stdout",
     "output_type": "stream",
     "text": [
      "2r0_inverse: 0.0011350000000000002 . Score: 0.5154045\n"
     ]
    },
    {
     "name": "stderr",
     "output_type": "stream",
     "text": [
      "<ipython-input-3-62b85426b902>:106: RuntimeWarning: invalid value encountered in arccos\n",
      "  dfh['a1'] = dfh['a0'].values - np.nan_to_num(np.arccos(mm*ii*dfh['rt'].values))\n"
     ]
    },
    {
     "name": "stdout",
     "output_type": "stream",
     "text": [
      "2r0_inverse: -0.0011400000000000002 . Score: 0.51577157\n"
     ]
    },
    {
     "name": "stderr",
     "output_type": "stream",
     "text": [
      "<ipython-input-3-62b85426b902>:106: RuntimeWarning: invalid value encountered in arccos\n",
      "  dfh['a1'] = dfh['a0'].values - np.nan_to_num(np.arccos(mm*ii*dfh['rt'].values))\n"
     ]
    },
    {
     "name": "stdout",
     "output_type": "stream",
     "text": [
      "2r0_inverse: 0.0011400000000000002 . Score: 0.51586246\n"
     ]
    },
    {
     "name": "stderr",
     "output_type": "stream",
     "text": [
      "<ipython-input-3-62b85426b902>:106: RuntimeWarning: invalid value encountered in arccos\n",
      "  dfh['a1'] = dfh['a0'].values - np.nan_to_num(np.arccos(mm*ii*dfh['rt'].values))\n"
     ]
    },
    {
     "name": "stdout",
     "output_type": "stream",
     "text": [
      "2r0_inverse: -0.0011450000000000002 . Score: 0.5162467\n"
     ]
    },
    {
     "name": "stderr",
     "output_type": "stream",
     "text": [
      "<ipython-input-3-62b85426b902>:106: RuntimeWarning: invalid value encountered in arccos\n",
      "  dfh['a1'] = dfh['a0'].values - np.nan_to_num(np.arccos(mm*ii*dfh['rt'].values))\n"
     ]
    },
    {
     "name": "stdout",
     "output_type": "stream",
     "text": [
      "2r0_inverse: 0.0011450000000000002 . Score: 0.51634216\n"
     ]
    },
    {
     "name": "stderr",
     "output_type": "stream",
     "text": [
      "<ipython-input-3-62b85426b902>:106: RuntimeWarning: invalid value encountered in arccos\n",
      "  dfh['a1'] = dfh['a0'].values - np.nan_to_num(np.arccos(mm*ii*dfh['rt'].values))\n"
     ]
    },
    {
     "name": "stdout",
     "output_type": "stream",
     "text": [
      "2r0_inverse: -0.0011500000000000002 . Score: 0.51651\n"
     ]
    },
    {
     "name": "stderr",
     "output_type": "stream",
     "text": [
      "<ipython-input-3-62b85426b902>:106: RuntimeWarning: invalid value encountered in arccos\n",
      "  dfh['a1'] = dfh['a0'].values - np.nan_to_num(np.arccos(mm*ii*dfh['rt'].values))\n"
     ]
    },
    {
     "name": "stdout",
     "output_type": "stream",
     "text": [
      "2r0_inverse: 0.0011500000000000002 . Score: 0.5163432\n"
     ]
    },
    {
     "name": "stderr",
     "output_type": "stream",
     "text": [
      "<ipython-input-3-62b85426b902>:106: RuntimeWarning: invalid value encountered in arccos\n",
      "  dfh['a1'] = dfh['a0'].values - np.nan_to_num(np.arccos(mm*ii*dfh['rt'].values))\n"
     ]
    },
    {
     "name": "stdout",
     "output_type": "stream",
     "text": [
      "2r0_inverse: -0.001155 . Score: 0.5166303\n"
     ]
    },
    {
     "name": "stderr",
     "output_type": "stream",
     "text": [
      "<ipython-input-3-62b85426b902>:106: RuntimeWarning: invalid value encountered in arccos\n",
      "  dfh['a1'] = dfh['a0'].values - np.nan_to_num(np.arccos(mm*ii*dfh['rt'].values))\n"
     ]
    },
    {
     "name": "stdout",
     "output_type": "stream",
     "text": [
      "2r0_inverse: 0.001155 . Score: 0.5165055\n"
     ]
    },
    {
     "name": "stderr",
     "output_type": "stream",
     "text": [
      "<ipython-input-3-62b85426b902>:106: RuntimeWarning: invalid value encountered in arccos\n",
      "  dfh['a1'] = dfh['a0'].values - np.nan_to_num(np.arccos(mm*ii*dfh['rt'].values))\n"
     ]
    },
    {
     "name": "stdout",
     "output_type": "stream",
     "text": [
      "2r0_inverse: -0.00116 . Score: 0.51668084\n"
     ]
    },
    {
     "name": "stderr",
     "output_type": "stream",
     "text": [
      "<ipython-input-3-62b85426b902>:106: RuntimeWarning: invalid value encountered in arccos\n",
      "  dfh['a1'] = dfh['a0'].values - np.nan_to_num(np.arccos(mm*ii*dfh['rt'].values))\n"
     ]
    },
    {
     "name": "stdout",
     "output_type": "stream",
     "text": [
      "2r0_inverse: 0.00116 . Score: 0.51686597\n"
     ]
    },
    {
     "name": "stderr",
     "output_type": "stream",
     "text": [
      "<ipython-input-3-62b85426b902>:106: RuntimeWarning: invalid value encountered in arccos\n",
      "  dfh['a1'] = dfh['a0'].values - np.nan_to_num(np.arccos(mm*ii*dfh['rt'].values))\n"
     ]
    },
    {
     "name": "stdout",
     "output_type": "stream",
     "text": [
      "2r0_inverse: -0.001165 . Score: 0.5172158\n"
     ]
    },
    {
     "name": "stderr",
     "output_type": "stream",
     "text": [
      "<ipython-input-3-62b85426b902>:106: RuntimeWarning: invalid value encountered in arccos\n",
      "  dfh['a1'] = dfh['a0'].values - np.nan_to_num(np.arccos(mm*ii*dfh['rt'].values))\n"
     ]
    },
    {
     "name": "stdout",
     "output_type": "stream",
     "text": [
      "2r0_inverse: 0.001165 . Score: 0.5173037\n"
     ]
    },
    {
     "name": "stderr",
     "output_type": "stream",
     "text": [
      "<ipython-input-3-62b85426b902>:106: RuntimeWarning: invalid value encountered in arccos\n",
      "  dfh['a1'] = dfh['a0'].values - np.nan_to_num(np.arccos(mm*ii*dfh['rt'].values))\n"
     ]
    },
    {
     "name": "stdout",
     "output_type": "stream",
     "text": [
      "2r0_inverse: -0.00117 . Score: 0.5173912\n"
     ]
    },
    {
     "name": "stderr",
     "output_type": "stream",
     "text": [
      "<ipython-input-3-62b85426b902>:106: RuntimeWarning: invalid value encountered in arccos\n",
      "  dfh['a1'] = dfh['a0'].values - np.nan_to_num(np.arccos(mm*ii*dfh['rt'].values))\n"
     ]
    },
    {
     "name": "stdout",
     "output_type": "stream",
     "text": [
      "2r0_inverse: 0.00117 . Score: 0.51745725\n"
     ]
    },
    {
     "name": "stderr",
     "output_type": "stream",
     "text": [
      "<ipython-input-3-62b85426b902>:106: RuntimeWarning: invalid value encountered in arccos\n",
      "  dfh['a1'] = dfh['a0'].values - np.nan_to_num(np.arccos(mm*ii*dfh['rt'].values))\n"
     ]
    },
    {
     "name": "stdout",
     "output_type": "stream",
     "text": [
      "2r0_inverse: -0.001175 . Score: 0.5175688\n"
     ]
    },
    {
     "name": "stderr",
     "output_type": "stream",
     "text": [
      "<ipython-input-3-62b85426b902>:106: RuntimeWarning: invalid value encountered in arccos\n",
      "  dfh['a1'] = dfh['a0'].values - np.nan_to_num(np.arccos(mm*ii*dfh['rt'].values))\n"
     ]
    },
    {
     "name": "stdout",
     "output_type": "stream",
     "text": [
      "2r0_inverse: 0.001175 . Score: 0.5175915\n"
     ]
    },
    {
     "name": "stderr",
     "output_type": "stream",
     "text": [
      "<ipython-input-3-62b85426b902>:106: RuntimeWarning: invalid value encountered in arccos\n",
      "  dfh['a1'] = dfh['a0'].values - np.nan_to_num(np.arccos(mm*ii*dfh['rt'].values))\n"
     ]
    },
    {
     "name": "stdout",
     "output_type": "stream",
     "text": [
      "2r0_inverse: -0.00118 . Score: 0.51766616\n"
     ]
    },
    {
     "name": "stderr",
     "output_type": "stream",
     "text": [
      "<ipython-input-3-62b85426b902>:106: RuntimeWarning: invalid value encountered in arccos\n",
      "  dfh['a1'] = dfh['a0'].values - np.nan_to_num(np.arccos(mm*ii*dfh['rt'].values))\n"
     ]
    },
    {
     "name": "stdout",
     "output_type": "stream",
     "text": [
      "2r0_inverse: 0.00118 . Score: 0.5176358\n"
     ]
    },
    {
     "name": "stderr",
     "output_type": "stream",
     "text": [
      "<ipython-input-3-62b85426b902>:106: RuntimeWarning: invalid value encountered in arccos\n",
      "  dfh['a1'] = dfh['a0'].values - np.nan_to_num(np.arccos(mm*ii*dfh['rt'].values))\n"
     ]
    },
    {
     "name": "stdout",
     "output_type": "stream",
     "text": [
      "2r0_inverse: -0.001185 . Score: 0.51789355\n"
     ]
    },
    {
     "name": "stderr",
     "output_type": "stream",
     "text": [
      "<ipython-input-3-62b85426b902>:106: RuntimeWarning: invalid value encountered in arccos\n",
      "  dfh['a1'] = dfh['a0'].values - np.nan_to_num(np.arccos(mm*ii*dfh['rt'].values))\n"
     ]
    },
    {
     "name": "stdout",
     "output_type": "stream",
     "text": [
      "2r0_inverse: 0.001185 . Score: 0.51799774\n"
     ]
    },
    {
     "name": "stderr",
     "output_type": "stream",
     "text": [
      "<ipython-input-3-62b85426b902>:106: RuntimeWarning: invalid value encountered in arccos\n",
      "  dfh['a1'] = dfh['a0'].values - np.nan_to_num(np.arccos(mm*ii*dfh['rt'].values))\n"
     ]
    },
    {
     "name": "stdout",
     "output_type": "stream",
     "text": [
      "2r0_inverse: -0.00119 . Score: 0.517931\n"
     ]
    },
    {
     "name": "stderr",
     "output_type": "stream",
     "text": [
      "<ipython-input-3-62b85426b902>:106: RuntimeWarning: invalid value encountered in arccos\n",
      "  dfh['a1'] = dfh['a0'].values - np.nan_to_num(np.arccos(mm*ii*dfh['rt'].values))\n"
     ]
    },
    {
     "name": "stdout",
     "output_type": "stream",
     "text": [
      "2r0_inverse: 0.00119 . Score: 0.51816106\n"
     ]
    },
    {
     "name": "stderr",
     "output_type": "stream",
     "text": [
      "<ipython-input-3-62b85426b902>:106: RuntimeWarning: invalid value encountered in arccos\n",
      "  dfh['a1'] = dfh['a0'].values - np.nan_to_num(np.arccos(mm*ii*dfh['rt'].values))\n"
     ]
    },
    {
     "name": "stdout",
     "output_type": "stream",
     "text": [
      "2r0_inverse: -0.001195 . Score: 0.5182324\n"
     ]
    },
    {
     "name": "stderr",
     "output_type": "stream",
     "text": [
      "<ipython-input-3-62b85426b902>:106: RuntimeWarning: invalid value encountered in arccos\n",
      "  dfh['a1'] = dfh['a0'].values - np.nan_to_num(np.arccos(mm*ii*dfh['rt'].values))\n"
     ]
    },
    {
     "name": "stdout",
     "output_type": "stream",
     "text": [
      "2r0_inverse: 0.001195 . Score: 0.518417\n"
     ]
    },
    {
     "name": "stderr",
     "output_type": "stream",
     "text": [
      "<ipython-input-3-62b85426b902>:106: RuntimeWarning: invalid value encountered in arccos\n",
      "  dfh['a1'] = dfh['a0'].values - np.nan_to_num(np.arccos(mm*ii*dfh['rt'].values))\n"
     ]
    },
    {
     "name": "stdout",
     "output_type": "stream",
     "text": [
      "2r0_inverse: -0.0012000000000000001 . Score: 0.5184341\n"
     ]
    },
    {
     "name": "stderr",
     "output_type": "stream",
     "text": [
      "<ipython-input-3-62b85426b902>:106: RuntimeWarning: invalid value encountered in arccos\n",
      "  dfh['a1'] = dfh['a0'].values - np.nan_to_num(np.arccos(mm*ii*dfh['rt'].values))\n"
     ]
    },
    {
     "name": "stdout",
     "output_type": "stream",
     "text": [
      "2r0_inverse: 0.0012000000000000001 . Score: 0.51825976\n"
     ]
    },
    {
     "name": "stderr",
     "output_type": "stream",
     "text": [
      "<ipython-input-3-62b85426b902>:106: RuntimeWarning: invalid value encountered in arccos\n",
      "  dfh['a1'] = dfh['a0'].values - np.nan_to_num(np.arccos(mm*ii*dfh['rt'].values))\n"
     ]
    },
    {
     "name": "stdout",
     "output_type": "stream",
     "text": [
      "2r0_inverse: -0.0012050000000000001 . Score: 0.5182261\n"
     ]
    },
    {
     "name": "stderr",
     "output_type": "stream",
     "text": [
      "<ipython-input-3-62b85426b902>:106: RuntimeWarning: invalid value encountered in arccos\n",
      "  dfh['a1'] = dfh['a0'].values - np.nan_to_num(np.arccos(mm*ii*dfh['rt'].values))\n"
     ]
    },
    {
     "name": "stdout",
     "output_type": "stream",
     "text": [
      "2r0_inverse: 0.0012050000000000001 . Score: 0.5183794\n"
     ]
    },
    {
     "name": "stderr",
     "output_type": "stream",
     "text": [
      "<ipython-input-3-62b85426b902>:106: RuntimeWarning: invalid value encountered in arccos\n",
      "  dfh['a1'] = dfh['a0'].values - np.nan_to_num(np.arccos(mm*ii*dfh['rt'].values))\n"
     ]
    },
    {
     "name": "stdout",
     "output_type": "stream",
     "text": [
      "2r0_inverse: -0.0012100000000000001 . Score: 0.5182041\n"
     ]
    },
    {
     "name": "stderr",
     "output_type": "stream",
     "text": [
      "<ipython-input-3-62b85426b902>:106: RuntimeWarning: invalid value encountered in arccos\n",
      "  dfh['a1'] = dfh['a0'].values - np.nan_to_num(np.arccos(mm*ii*dfh['rt'].values))\n"
     ]
    },
    {
     "name": "stdout",
     "output_type": "stream",
     "text": [
      "2r0_inverse: 0.0012100000000000001 . Score: 0.51845944\n"
     ]
    },
    {
     "name": "stderr",
     "output_type": "stream",
     "text": [
      "<ipython-input-3-62b85426b902>:106: RuntimeWarning: invalid value encountered in arccos\n",
      "  dfh['a1'] = dfh['a0'].values - np.nan_to_num(np.arccos(mm*ii*dfh['rt'].values))\n"
     ]
    },
    {
     "name": "stdout",
     "output_type": "stream",
     "text": [
      "2r0_inverse: -0.0012150000000000002 . Score: 0.5183815\n"
     ]
    },
    {
     "name": "stderr",
     "output_type": "stream",
     "text": [
      "<ipython-input-3-62b85426b902>:106: RuntimeWarning: invalid value encountered in arccos\n",
      "  dfh['a1'] = dfh['a0'].values - np.nan_to_num(np.arccos(mm*ii*dfh['rt'].values))\n"
     ]
    },
    {
     "name": "stdout",
     "output_type": "stream",
     "text": [
      "2r0_inverse: 0.0012150000000000002 . Score: 0.5185809\n"
     ]
    },
    {
     "name": "stderr",
     "output_type": "stream",
     "text": [
      "<ipython-input-3-62b85426b902>:106: RuntimeWarning: invalid value encountered in arccos\n",
      "  dfh['a1'] = dfh['a0'].values - np.nan_to_num(np.arccos(mm*ii*dfh['rt'].values))\n"
     ]
    },
    {
     "name": "stdout",
     "output_type": "stream",
     "text": [
      "2r0_inverse: -0.0012200000000000002 . Score: 0.51874566\n"
     ]
    },
    {
     "name": "stderr",
     "output_type": "stream",
     "text": [
      "<ipython-input-3-62b85426b902>:106: RuntimeWarning: invalid value encountered in arccos\n",
      "  dfh['a1'] = dfh['a0'].values - np.nan_to_num(np.arccos(mm*ii*dfh['rt'].values))\n"
     ]
    },
    {
     "name": "stdout",
     "output_type": "stream",
     "text": [
      "2r0_inverse: 0.0012200000000000002 . Score: 0.5188168\n"
     ]
    },
    {
     "name": "stderr",
     "output_type": "stream",
     "text": [
      "<ipython-input-3-62b85426b902>:106: RuntimeWarning: invalid value encountered in arccos\n",
      "  dfh['a1'] = dfh['a0'].values - np.nan_to_num(np.arccos(mm*ii*dfh['rt'].values))\n"
     ]
    },
    {
     "name": "stdout",
     "output_type": "stream",
     "text": [
      "2r0_inverse: -0.0012250000000000002 . Score: 0.51891047\n"
     ]
    },
    {
     "name": "stderr",
     "output_type": "stream",
     "text": [
      "<ipython-input-3-62b85426b902>:106: RuntimeWarning: invalid value encountered in arccos\n",
      "  dfh['a1'] = dfh['a0'].values - np.nan_to_num(np.arccos(mm*ii*dfh['rt'].values))\n"
     ]
    },
    {
     "name": "stdout",
     "output_type": "stream",
     "text": [
      "2r0_inverse: 0.0012250000000000002 . Score: 0.5190562\n"
     ]
    },
    {
     "name": "stderr",
     "output_type": "stream",
     "text": [
      "<ipython-input-3-62b85426b902>:106: RuntimeWarning: invalid value encountered in arccos\n",
      "  dfh['a1'] = dfh['a0'].values - np.nan_to_num(np.arccos(mm*ii*dfh['rt'].values))\n"
     ]
    },
    {
     "name": "stdout",
     "output_type": "stream",
     "text": [
      "2r0_inverse: -0.0012300000000000002 . Score: 0.5190376\n"
     ]
    },
    {
     "name": "stderr",
     "output_type": "stream",
     "text": [
      "<ipython-input-3-62b85426b902>:106: RuntimeWarning: invalid value encountered in arccos\n",
      "  dfh['a1'] = dfh['a0'].values - np.nan_to_num(np.arccos(mm*ii*dfh['rt'].values))\n"
     ]
    },
    {
     "name": "stdout",
     "output_type": "stream",
     "text": [
      "2r0_inverse: 0.0012300000000000002 . Score: 0.5192582\n"
     ]
    },
    {
     "name": "stderr",
     "output_type": "stream",
     "text": [
      "<ipython-input-3-62b85426b902>:106: RuntimeWarning: invalid value encountered in arccos\n",
      "  dfh['a1'] = dfh['a0'].values - np.nan_to_num(np.arccos(mm*ii*dfh['rt'].values))\n"
     ]
    },
    {
     "name": "stdout",
     "output_type": "stream",
     "text": [
      "2r0_inverse: -0.0012350000000000002 . Score: 0.5193164\n"
     ]
    },
    {
     "name": "stderr",
     "output_type": "stream",
     "text": [
      "<ipython-input-3-62b85426b902>:106: RuntimeWarning: invalid value encountered in arccos\n",
      "  dfh['a1'] = dfh['a0'].values - np.nan_to_num(np.arccos(mm*ii*dfh['rt'].values))\n"
     ]
    },
    {
     "name": "stdout",
     "output_type": "stream",
     "text": [
      "2r0_inverse: 0.0012350000000000002 . Score: 0.51939785\n"
     ]
    },
    {
     "name": "stderr",
     "output_type": "stream",
     "text": [
      "<ipython-input-3-62b85426b902>:106: RuntimeWarning: invalid value encountered in arccos\n",
      "  dfh['a1'] = dfh['a0'].values - np.nan_to_num(np.arccos(mm*ii*dfh['rt'].values))\n"
     ]
    },
    {
     "name": "stdout",
     "output_type": "stream",
     "text": [
      "2r0_inverse: -0.00124 . Score: 0.5195444\n"
     ]
    },
    {
     "name": "stderr",
     "output_type": "stream",
     "text": [
      "<ipython-input-3-62b85426b902>:106: RuntimeWarning: invalid value encountered in arccos\n",
      "  dfh['a1'] = dfh['a0'].values - np.nan_to_num(np.arccos(mm*ii*dfh['rt'].values))\n"
     ]
    },
    {
     "name": "stdout",
     "output_type": "stream",
     "text": [
      "2r0_inverse: 0.00124 . Score: 0.51964056\n"
     ]
    },
    {
     "name": "stderr",
     "output_type": "stream",
     "text": [
      "<ipython-input-3-62b85426b902>:106: RuntimeWarning: invalid value encountered in arccos\n",
      "  dfh['a1'] = dfh['a0'].values - np.nan_to_num(np.arccos(mm*ii*dfh['rt'].values))\n"
     ]
    },
    {
     "name": "stdout",
     "output_type": "stream",
     "text": [
      "2r0_inverse: -0.001245 . Score: 0.51972485\n"
     ]
    },
    {
     "name": "stderr",
     "output_type": "stream",
     "text": [
      "<ipython-input-3-62b85426b902>:106: RuntimeWarning: invalid value encountered in arccos\n",
      "  dfh['a1'] = dfh['a0'].values - np.nan_to_num(np.arccos(mm*ii*dfh['rt'].values))\n"
     ]
    },
    {
     "name": "stdout",
     "output_type": "stream",
     "text": [
      "2r0_inverse: 0.001245 . Score: 0.5198069\n"
     ]
    },
    {
     "name": "stderr",
     "output_type": "stream",
     "text": [
      "<ipython-input-3-62b85426b902>:106: RuntimeWarning: invalid value encountered in arccos\n",
      "  dfh['a1'] = dfh['a0'].values - np.nan_to_num(np.arccos(mm*ii*dfh['rt'].values))\n"
     ]
    },
    {
     "name": "stdout",
     "output_type": "stream",
     "text": [
      "2r0_inverse: -0.00125 . Score: 0.519947\n"
     ]
    },
    {
     "name": "stderr",
     "output_type": "stream",
     "text": [
      "<ipython-input-3-62b85426b902>:106: RuntimeWarning: invalid value encountered in arccos\n",
      "  dfh['a1'] = dfh['a0'].values - np.nan_to_num(np.arccos(mm*ii*dfh['rt'].values))\n"
     ]
    },
    {
     "name": "stdout",
     "output_type": "stream",
     "text": [
      "2r0_inverse: 0.00125 . Score: 0.5199512\n"
     ]
    },
    {
     "name": "stderr",
     "output_type": "stream",
     "text": [
      "<ipython-input-3-62b85426b902>:106: RuntimeWarning: invalid value encountered in arccos\n",
      "  dfh['a1'] = dfh['a0'].values - np.nan_to_num(np.arccos(mm*ii*dfh['rt'].values))\n"
     ]
    },
    {
     "name": "stdout",
     "output_type": "stream",
     "text": [
      "2r0_inverse: -0.001255 . Score: 0.52003074\n"
     ]
    },
    {
     "name": "stderr",
     "output_type": "stream",
     "text": [
      "<ipython-input-3-62b85426b902>:106: RuntimeWarning: invalid value encountered in arccos\n",
      "  dfh['a1'] = dfh['a0'].values - np.nan_to_num(np.arccos(mm*ii*dfh['rt'].values))\n"
     ]
    },
    {
     "name": "stdout",
     "output_type": "stream",
     "text": [
      "2r0_inverse: 0.001255 . Score: 0.5200571\n"
     ]
    },
    {
     "name": "stderr",
     "output_type": "stream",
     "text": [
      "<ipython-input-3-62b85426b902>:106: RuntimeWarning: invalid value encountered in arccos\n",
      "  dfh['a1'] = dfh['a0'].values - np.nan_to_num(np.arccos(mm*ii*dfh['rt'].values))\n"
     ]
    },
    {
     "name": "stdout",
     "output_type": "stream",
     "text": [
      "2r0_inverse: -0.00126 . Score: 0.5202006\n"
     ]
    },
    {
     "name": "stderr",
     "output_type": "stream",
     "text": [
      "<ipython-input-3-62b85426b902>:106: RuntimeWarning: invalid value encountered in arccos\n",
      "  dfh['a1'] = dfh['a0'].values - np.nan_to_num(np.arccos(mm*ii*dfh['rt'].values))\n"
     ]
    },
    {
     "name": "stdout",
     "output_type": "stream",
     "text": [
      "2r0_inverse: 0.00126 . Score: 0.52027965\n"
     ]
    },
    {
     "name": "stderr",
     "output_type": "stream",
     "text": [
      "<ipython-input-3-62b85426b902>:106: RuntimeWarning: invalid value encountered in arccos\n",
      "  dfh['a1'] = dfh['a0'].values - np.nan_to_num(np.arccos(mm*ii*dfh['rt'].values))\n"
     ]
    },
    {
     "name": "stdout",
     "output_type": "stream",
     "text": [
      "2r0_inverse: -0.001265 . Score: 0.52039266\n"
     ]
    },
    {
     "name": "stderr",
     "output_type": "stream",
     "text": [
      "<ipython-input-3-62b85426b902>:106: RuntimeWarning: invalid value encountered in arccos\n",
      "  dfh['a1'] = dfh['a0'].values - np.nan_to_num(np.arccos(mm*ii*dfh['rt'].values))\n"
     ]
    },
    {
     "name": "stdout",
     "output_type": "stream",
     "text": [
      "2r0_inverse: 0.001265 . Score: 0.5205585\n"
     ]
    },
    {
     "name": "stderr",
     "output_type": "stream",
     "text": [
      "<ipython-input-3-62b85426b902>:106: RuntimeWarning: invalid value encountered in arccos\n",
      "  dfh['a1'] = dfh['a0'].values - np.nan_to_num(np.arccos(mm*ii*dfh['rt'].values))\n"
     ]
    },
    {
     "name": "stdout",
     "output_type": "stream",
     "text": [
      "2r0_inverse: -0.00127 . Score: 0.5206238\n"
     ]
    },
    {
     "name": "stderr",
     "output_type": "stream",
     "text": [
      "<ipython-input-3-62b85426b902>:106: RuntimeWarning: invalid value encountered in arccos\n",
      "  dfh['a1'] = dfh['a0'].values - np.nan_to_num(np.arccos(mm*ii*dfh['rt'].values))\n"
     ]
    },
    {
     "name": "stdout",
     "output_type": "stream",
     "text": [
      "2r0_inverse: 0.00127 . Score: 0.5207746\n"
     ]
    },
    {
     "name": "stderr",
     "output_type": "stream",
     "text": [
      "<ipython-input-3-62b85426b902>:106: RuntimeWarning: invalid value encountered in arccos\n",
      "  dfh['a1'] = dfh['a0'].values - np.nan_to_num(np.arccos(mm*ii*dfh['rt'].values))\n"
     ]
    },
    {
     "name": "stdout",
     "output_type": "stream",
     "text": [
      "2r0_inverse: -0.001275 . Score: 0.520929\n"
     ]
    },
    {
     "name": "stderr",
     "output_type": "stream",
     "text": [
      "<ipython-input-3-62b85426b902>:106: RuntimeWarning: invalid value encountered in arccos\n",
      "  dfh['a1'] = dfh['a0'].values - np.nan_to_num(np.arccos(mm*ii*dfh['rt'].values))\n"
     ]
    },
    {
     "name": "stdout",
     "output_type": "stream",
     "text": [
      "2r0_inverse: 0.001275 . Score: 0.52131927\n"
     ]
    },
    {
     "name": "stderr",
     "output_type": "stream",
     "text": [
      "<ipython-input-3-62b85426b902>:106: RuntimeWarning: invalid value encountered in arccos\n",
      "  dfh['a1'] = dfh['a0'].values - np.nan_to_num(np.arccos(mm*ii*dfh['rt'].values))\n"
     ]
    },
    {
     "name": "stdout",
     "output_type": "stream",
     "text": [
      "2r0_inverse: -0.00128 . Score: 0.5215236\n"
     ]
    },
    {
     "name": "stderr",
     "output_type": "stream",
     "text": [
      "<ipython-input-3-62b85426b902>:106: RuntimeWarning: invalid value encountered in arccos\n",
      "  dfh['a1'] = dfh['a0'].values - np.nan_to_num(np.arccos(mm*ii*dfh['rt'].values))\n"
     ]
    },
    {
     "name": "stdout",
     "output_type": "stream",
     "text": [
      "2r0_inverse: 0.00128 . Score: 0.52167755\n"
     ]
    },
    {
     "name": "stderr",
     "output_type": "stream",
     "text": [
      "<ipython-input-3-62b85426b902>:106: RuntimeWarning: invalid value encountered in arccos\n",
      "  dfh['a1'] = dfh['a0'].values - np.nan_to_num(np.arccos(mm*ii*dfh['rt'].values))\n"
     ]
    },
    {
     "name": "stdout",
     "output_type": "stream",
     "text": [
      "2r0_inverse: -0.0012850000000000001 . Score: 0.5216063\n"
     ]
    },
    {
     "name": "stderr",
     "output_type": "stream",
     "text": [
      "<ipython-input-3-62b85426b902>:106: RuntimeWarning: invalid value encountered in arccos\n",
      "  dfh['a1'] = dfh['a0'].values - np.nan_to_num(np.arccos(mm*ii*dfh['rt'].values))\n"
     ]
    },
    {
     "name": "stdout",
     "output_type": "stream",
     "text": [
      "2r0_inverse: 0.0012850000000000001 . Score: 0.52178603\n"
     ]
    },
    {
     "name": "stderr",
     "output_type": "stream",
     "text": [
      "<ipython-input-3-62b85426b902>:106: RuntimeWarning: invalid value encountered in arccos\n",
      "  dfh['a1'] = dfh['a0'].values - np.nan_to_num(np.arccos(mm*ii*dfh['rt'].values))\n"
     ]
    },
    {
     "name": "stdout",
     "output_type": "stream",
     "text": [
      "2r0_inverse: -0.0012900000000000001 . Score: 0.52187335\n"
     ]
    },
    {
     "name": "stderr",
     "output_type": "stream",
     "text": [
      "<ipython-input-3-62b85426b902>:106: RuntimeWarning: invalid value encountered in arccos\n",
      "  dfh['a1'] = dfh['a0'].values - np.nan_to_num(np.arccos(mm*ii*dfh['rt'].values))\n"
     ]
    },
    {
     "name": "stdout",
     "output_type": "stream",
     "text": [
      "2r0_inverse: 0.0012900000000000001 . Score: 0.52198696\n"
     ]
    },
    {
     "name": "stderr",
     "output_type": "stream",
     "text": [
      "<ipython-input-3-62b85426b902>:106: RuntimeWarning: invalid value encountered in arccos\n",
      "  dfh['a1'] = dfh['a0'].values - np.nan_to_num(np.arccos(mm*ii*dfh['rt'].values))\n"
     ]
    },
    {
     "name": "stdout",
     "output_type": "stream",
     "text": [
      "2r0_inverse: -0.0012950000000000001 . Score: 0.5219918\n"
     ]
    },
    {
     "name": "stderr",
     "output_type": "stream",
     "text": [
      "<ipython-input-3-62b85426b902>:106: RuntimeWarning: invalid value encountered in arccos\n",
      "  dfh['a1'] = dfh['a0'].values - np.nan_to_num(np.arccos(mm*ii*dfh['rt'].values))\n"
     ]
    },
    {
     "name": "stdout",
     "output_type": "stream",
     "text": [
      "2r0_inverse: 0.0012950000000000001 . Score: 0.5219464\n"
     ]
    },
    {
     "name": "stderr",
     "output_type": "stream",
     "text": [
      "<ipython-input-3-62b85426b902>:106: RuntimeWarning: invalid value encountered in arccos\n",
      "  dfh['a1'] = dfh['a0'].values - np.nan_to_num(np.arccos(mm*ii*dfh['rt'].values))\n"
     ]
    },
    {
     "name": "stdout",
     "output_type": "stream",
     "text": [
      "2r0_inverse: -0.0013000000000000002 . Score: 0.521934\n"
     ]
    },
    {
     "name": "stderr",
     "output_type": "stream",
     "text": [
      "<ipython-input-3-62b85426b902>:106: RuntimeWarning: invalid value encountered in arccos\n",
      "  dfh['a1'] = dfh['a0'].values - np.nan_to_num(np.arccos(mm*ii*dfh['rt'].values))\n"
     ]
    },
    {
     "name": "stdout",
     "output_type": "stream",
     "text": [
      "2r0_inverse: 0.0013000000000000002 . Score: 0.521837\n"
     ]
    },
    {
     "name": "stderr",
     "output_type": "stream",
     "text": [
      "<ipython-input-3-62b85426b902>:106: RuntimeWarning: invalid value encountered in arccos\n",
      "  dfh['a1'] = dfh['a0'].values - np.nan_to_num(np.arccos(mm*ii*dfh['rt'].values))\n"
     ]
    },
    {
     "name": "stdout",
     "output_type": "stream",
     "text": [
      "2r0_inverse: -0.0013050000000000002 . Score: 0.52192485\n"
     ]
    },
    {
     "name": "stderr",
     "output_type": "stream",
     "text": [
      "<ipython-input-3-62b85426b902>:106: RuntimeWarning: invalid value encountered in arccos\n",
      "  dfh['a1'] = dfh['a0'].values - np.nan_to_num(np.arccos(mm*ii*dfh['rt'].values))\n"
     ]
    },
    {
     "name": "stdout",
     "output_type": "stream",
     "text": [
      "2r0_inverse: 0.0013050000000000002 . Score: 0.52203894\n"
     ]
    },
    {
     "name": "stderr",
     "output_type": "stream",
     "text": [
      "<ipython-input-3-62b85426b902>:106: RuntimeWarning: invalid value encountered in arccos\n",
      "  dfh['a1'] = dfh['a0'].values - np.nan_to_num(np.arccos(mm*ii*dfh['rt'].values))\n"
     ]
    },
    {
     "name": "stdout",
     "output_type": "stream",
     "text": [
      "2r0_inverse: -0.0013100000000000002 . Score: 0.5222485\n"
     ]
    },
    {
     "name": "stderr",
     "output_type": "stream",
     "text": [
      "<ipython-input-3-62b85426b902>:106: RuntimeWarning: invalid value encountered in arccos\n",
      "  dfh['a1'] = dfh['a0'].values - np.nan_to_num(np.arccos(mm*ii*dfh['rt'].values))\n"
     ]
    },
    {
     "name": "stdout",
     "output_type": "stream",
     "text": [
      "2r0_inverse: 0.0013100000000000002 . Score: 0.522257\n"
     ]
    },
    {
     "name": "stderr",
     "output_type": "stream",
     "text": [
      "<ipython-input-3-62b85426b902>:106: RuntimeWarning: invalid value encountered in arccos\n",
      "  dfh['a1'] = dfh['a0'].values - np.nan_to_num(np.arccos(mm*ii*dfh['rt'].values))\n"
     ]
    },
    {
     "name": "stdout",
     "output_type": "stream",
     "text": [
      "2r0_inverse: -0.0013150000000000002 . Score: 0.5222765\n"
     ]
    },
    {
     "name": "stderr",
     "output_type": "stream",
     "text": [
      "<ipython-input-3-62b85426b902>:106: RuntimeWarning: invalid value encountered in arccos\n",
      "  dfh['a1'] = dfh['a0'].values - np.nan_to_num(np.arccos(mm*ii*dfh['rt'].values))\n"
     ]
    },
    {
     "name": "stdout",
     "output_type": "stream",
     "text": [
      "2r0_inverse: 0.0013150000000000002 . Score: 0.5225232\n"
     ]
    },
    {
     "name": "stderr",
     "output_type": "stream",
     "text": [
      "<ipython-input-3-62b85426b902>:106: RuntimeWarning: invalid value encountered in arccos\n",
      "  dfh['a1'] = dfh['a0'].values - np.nan_to_num(np.arccos(mm*ii*dfh['rt'].values))\n"
     ]
    },
    {
     "name": "stdout",
     "output_type": "stream",
     "text": [
      "2r0_inverse: -0.0013200000000000002 . Score: 0.52261543\n"
     ]
    },
    {
     "name": "stderr",
     "output_type": "stream",
     "text": [
      "<ipython-input-3-62b85426b902>:106: RuntimeWarning: invalid value encountered in arccos\n",
      "  dfh['a1'] = dfh['a0'].values - np.nan_to_num(np.arccos(mm*ii*dfh['rt'].values))\n"
     ]
    },
    {
     "name": "stdout",
     "output_type": "stream",
     "text": [
      "2r0_inverse: 0.0013200000000000002 . Score: 0.5227614\n"
     ]
    },
    {
     "name": "stderr",
     "output_type": "stream",
     "text": [
      "<ipython-input-3-62b85426b902>:106: RuntimeWarning: invalid value encountered in arccos\n",
      "  dfh['a1'] = dfh['a0'].values - np.nan_to_num(np.arccos(mm*ii*dfh['rt'].values))\n"
     ]
    },
    {
     "name": "stdout",
     "output_type": "stream",
     "text": [
      "2r0_inverse: -0.001325 . Score: 0.5227501\n"
     ]
    },
    {
     "name": "stderr",
     "output_type": "stream",
     "text": [
      "<ipython-input-3-62b85426b902>:106: RuntimeWarning: invalid value encountered in arccos\n",
      "  dfh['a1'] = dfh['a0'].values - np.nan_to_num(np.arccos(mm*ii*dfh['rt'].values))\n"
     ]
    },
    {
     "name": "stdout",
     "output_type": "stream",
     "text": [
      "2r0_inverse: 0.001325 . Score: 0.52285355\n"
     ]
    },
    {
     "name": "stderr",
     "output_type": "stream",
     "text": [
      "<ipython-input-3-62b85426b902>:106: RuntimeWarning: invalid value encountered in arccos\n",
      "  dfh['a1'] = dfh['a0'].values - np.nan_to_num(np.arccos(mm*ii*dfh['rt'].values))\n"
     ]
    },
    {
     "name": "stdout",
     "output_type": "stream",
     "text": [
      "2r0_inverse: -0.00133 . Score: 0.5228076\n"
     ]
    },
    {
     "name": "stderr",
     "output_type": "stream",
     "text": [
      "<ipython-input-3-62b85426b902>:106: RuntimeWarning: invalid value encountered in arccos\n",
      "  dfh['a1'] = dfh['a0'].values - np.nan_to_num(np.arccos(mm*ii*dfh['rt'].values))\n"
     ]
    },
    {
     "name": "stdout",
     "output_type": "stream",
     "text": [
      "2r0_inverse: 0.00133 . Score: 0.52281123\n"
     ]
    },
    {
     "name": "stderr",
     "output_type": "stream",
     "text": [
      "<ipython-input-3-62b85426b902>:106: RuntimeWarning: invalid value encountered in arccos\n",
      "  dfh['a1'] = dfh['a0'].values - np.nan_to_num(np.arccos(mm*ii*dfh['rt'].values))\n"
     ]
    },
    {
     "name": "stdout",
     "output_type": "stream",
     "text": [
      "2r0_inverse: -0.001335 . Score: 0.5225974\n"
     ]
    },
    {
     "name": "stderr",
     "output_type": "stream",
     "text": [
      "<ipython-input-3-62b85426b902>:106: RuntimeWarning: invalid value encountered in arccos\n",
      "  dfh['a1'] = dfh['a0'].values - np.nan_to_num(np.arccos(mm*ii*dfh['rt'].values))\n"
     ]
    },
    {
     "name": "stdout",
     "output_type": "stream",
     "text": [
      "2r0_inverse: 0.001335 . Score: 0.5228432\n"
     ]
    },
    {
     "name": "stderr",
     "output_type": "stream",
     "text": [
      "<ipython-input-3-62b85426b902>:106: RuntimeWarning: invalid value encountered in arccos\n",
      "  dfh['a1'] = dfh['a0'].values - np.nan_to_num(np.arccos(mm*ii*dfh['rt'].values))\n"
     ]
    },
    {
     "name": "stdout",
     "output_type": "stream",
     "text": [
      "2r0_inverse: -0.00134 . Score: 0.5229434\n"
     ]
    },
    {
     "name": "stderr",
     "output_type": "stream",
     "text": [
      "<ipython-input-3-62b85426b902>:106: RuntimeWarning: invalid value encountered in arccos\n",
      "  dfh['a1'] = dfh['a0'].values - np.nan_to_num(np.arccos(mm*ii*dfh['rt'].values))\n"
     ]
    },
    {
     "name": "stdout",
     "output_type": "stream",
     "text": [
      "2r0_inverse: 0.00134 . Score: 0.52291965\n"
     ]
    },
    {
     "name": "stderr",
     "output_type": "stream",
     "text": [
      "<ipython-input-3-62b85426b902>:106: RuntimeWarning: invalid value encountered in arccos\n",
      "  dfh['a1'] = dfh['a0'].values - np.nan_to_num(np.arccos(mm*ii*dfh['rt'].values))\n"
     ]
    },
    {
     "name": "stdout",
     "output_type": "stream",
     "text": [
      "2r0_inverse: -0.001345 . Score: 0.5229509\n"
     ]
    },
    {
     "name": "stderr",
     "output_type": "stream",
     "text": [
      "<ipython-input-3-62b85426b902>:106: RuntimeWarning: invalid value encountered in arccos\n",
      "  dfh['a1'] = dfh['a0'].values - np.nan_to_num(np.arccos(mm*ii*dfh['rt'].values))\n"
     ]
    },
    {
     "name": "stdout",
     "output_type": "stream",
     "text": [
      "2r0_inverse: 0.001345 . Score: 0.52301365\n"
     ]
    },
    {
     "name": "stderr",
     "output_type": "stream",
     "text": [
      "<ipython-input-3-62b85426b902>:106: RuntimeWarning: invalid value encountered in arccos\n",
      "  dfh['a1'] = dfh['a0'].values - np.nan_to_num(np.arccos(mm*ii*dfh['rt'].values))\n"
     ]
    },
    {
     "name": "stdout",
     "output_type": "stream",
     "text": [
      "2r0_inverse: -0.00135 . Score: 0.52310836\n"
     ]
    },
    {
     "name": "stderr",
     "output_type": "stream",
     "text": [
      "<ipython-input-3-62b85426b902>:106: RuntimeWarning: invalid value encountered in arccos\n",
      "  dfh['a1'] = dfh['a0'].values - np.nan_to_num(np.arccos(mm*ii*dfh['rt'].values))\n"
     ]
    },
    {
     "name": "stdout",
     "output_type": "stream",
     "text": [
      "2r0_inverse: 0.00135 . Score: 0.5231359\n"
     ]
    },
    {
     "name": "stderr",
     "output_type": "stream",
     "text": [
      "<ipython-input-3-62b85426b902>:106: RuntimeWarning: invalid value encountered in arccos\n",
      "  dfh['a1'] = dfh['a0'].values - np.nan_to_num(np.arccos(mm*ii*dfh['rt'].values))\n"
     ]
    },
    {
     "name": "stdout",
     "output_type": "stream",
     "text": [
      "2r0_inverse: -0.001355 . Score: 0.52312243\n"
     ]
    },
    {
     "name": "stderr",
     "output_type": "stream",
     "text": [
      "<ipython-input-3-62b85426b902>:106: RuntimeWarning: invalid value encountered in arccos\n",
      "  dfh['a1'] = dfh['a0'].values - np.nan_to_num(np.arccos(mm*ii*dfh['rt'].values))\n"
     ]
    },
    {
     "name": "stdout",
     "output_type": "stream",
     "text": [
      "2r0_inverse: 0.001355 . Score: 0.5231503\n"
     ]
    },
    {
     "name": "stderr",
     "output_type": "stream",
     "text": [
      "<ipython-input-3-62b85426b902>:106: RuntimeWarning: invalid value encountered in arccos\n",
      "  dfh['a1'] = dfh['a0'].values - np.nan_to_num(np.arccos(mm*ii*dfh['rt'].values))\n"
     ]
    },
    {
     "name": "stdout",
     "output_type": "stream",
     "text": [
      "2r0_inverse: -0.00136 . Score: 0.5233901\n"
     ]
    },
    {
     "name": "stderr",
     "output_type": "stream",
     "text": [
      "<ipython-input-3-62b85426b902>:106: RuntimeWarning: invalid value encountered in arccos\n",
      "  dfh['a1'] = dfh['a0'].values - np.nan_to_num(np.arccos(mm*ii*dfh['rt'].values))\n"
     ]
    },
    {
     "name": "stdout",
     "output_type": "stream",
     "text": [
      "2r0_inverse: 0.00136 . Score: 0.5233961\n"
     ]
    },
    {
     "name": "stderr",
     "output_type": "stream",
     "text": [
      "<ipython-input-3-62b85426b902>:106: RuntimeWarning: invalid value encountered in arccos\n",
      "  dfh['a1'] = dfh['a0'].values - np.nan_to_num(np.arccos(mm*ii*dfh['rt'].values))\n"
     ]
    },
    {
     "name": "stdout",
     "output_type": "stream",
     "text": [
      "2r0_inverse: -0.0013650000000000001 . Score: 0.52344203\n"
     ]
    },
    {
     "name": "stderr",
     "output_type": "stream",
     "text": [
      "<ipython-input-3-62b85426b902>:106: RuntimeWarning: invalid value encountered in arccos\n",
      "  dfh['a1'] = dfh['a0'].values - np.nan_to_num(np.arccos(mm*ii*dfh['rt'].values))\n"
     ]
    },
    {
     "name": "stdout",
     "output_type": "stream",
     "text": [
      "2r0_inverse: 0.0013650000000000001 . Score: 0.52349335\n"
     ]
    },
    {
     "name": "stderr",
     "output_type": "stream",
     "text": [
      "<ipython-input-3-62b85426b902>:106: RuntimeWarning: invalid value encountered in arccos\n",
      "  dfh['a1'] = dfh['a0'].values - np.nan_to_num(np.arccos(mm*ii*dfh['rt'].values))\n"
     ]
    },
    {
     "name": "stdout",
     "output_type": "stream",
     "text": [
      "2r0_inverse: -0.0013700000000000001 . Score: 0.5236066\n"
     ]
    },
    {
     "name": "stderr",
     "output_type": "stream",
     "text": [
      "<ipython-input-3-62b85426b902>:106: RuntimeWarning: invalid value encountered in arccos\n",
      "  dfh['a1'] = dfh['a0'].values - np.nan_to_num(np.arccos(mm*ii*dfh['rt'].values))\n"
     ]
    },
    {
     "name": "stdout",
     "output_type": "stream",
     "text": [
      "2r0_inverse: 0.0013700000000000001 . Score: 0.5235609\n"
     ]
    },
    {
     "name": "stderr",
     "output_type": "stream",
     "text": [
      "<ipython-input-3-62b85426b902>:106: RuntimeWarning: invalid value encountered in arccos\n",
      "  dfh['a1'] = dfh['a0'].values - np.nan_to_num(np.arccos(mm*ii*dfh['rt'].values))\n"
     ]
    },
    {
     "name": "stdout",
     "output_type": "stream",
     "text": [
      "2r0_inverse: -0.0013750000000000001 . Score: 0.5236685\n"
     ]
    },
    {
     "name": "stderr",
     "output_type": "stream",
     "text": [
      "<ipython-input-3-62b85426b902>:106: RuntimeWarning: invalid value encountered in arccos\n",
      "  dfh['a1'] = dfh['a0'].values - np.nan_to_num(np.arccos(mm*ii*dfh['rt'].values))\n"
     ]
    },
    {
     "name": "stdout",
     "output_type": "stream",
     "text": [
      "2r0_inverse: 0.0013750000000000001 . Score: 0.5235819\n"
     ]
    },
    {
     "name": "stderr",
     "output_type": "stream",
     "text": [
      "<ipython-input-3-62b85426b902>:106: RuntimeWarning: invalid value encountered in arccos\n",
      "  dfh['a1'] = dfh['a0'].values - np.nan_to_num(np.arccos(mm*ii*dfh['rt'].values))\n"
     ]
    },
    {
     "name": "stdout",
     "output_type": "stream",
     "text": [
      "2r0_inverse: -0.0013800000000000002 . Score: 0.5236197\n"
     ]
    },
    {
     "name": "stderr",
     "output_type": "stream",
     "text": [
      "<ipython-input-3-62b85426b902>:106: RuntimeWarning: invalid value encountered in arccos\n",
      "  dfh['a1'] = dfh['a0'].values - np.nan_to_num(np.arccos(mm*ii*dfh['rt'].values))\n"
     ]
    },
    {
     "name": "stdout",
     "output_type": "stream",
     "text": [
      "2r0_inverse: 0.0013800000000000002 . Score: 0.5235599\n"
     ]
    },
    {
     "name": "stderr",
     "output_type": "stream",
     "text": [
      "<ipython-input-3-62b85426b902>:106: RuntimeWarning: invalid value encountered in arccos\n",
      "  dfh['a1'] = dfh['a0'].values - np.nan_to_num(np.arccos(mm*ii*dfh['rt'].values))\n"
     ]
    },
    {
     "name": "stdout",
     "output_type": "stream",
     "text": [
      "2r0_inverse: -0.0013850000000000002 . Score: 0.5238996\n"
     ]
    },
    {
     "name": "stderr",
     "output_type": "stream",
     "text": [
      "<ipython-input-3-62b85426b902>:106: RuntimeWarning: invalid value encountered in arccos\n",
      "  dfh['a1'] = dfh['a0'].values - np.nan_to_num(np.arccos(mm*ii*dfh['rt'].values))\n"
     ]
    },
    {
     "name": "stdout",
     "output_type": "stream",
     "text": [
      "2r0_inverse: 0.0013850000000000002 . Score: 0.5240202\n"
     ]
    },
    {
     "name": "stderr",
     "output_type": "stream",
     "text": [
      "<ipython-input-3-62b85426b902>:106: RuntimeWarning: invalid value encountered in arccos\n",
      "  dfh['a1'] = dfh['a0'].values - np.nan_to_num(np.arccos(mm*ii*dfh['rt'].values))\n"
     ]
    },
    {
     "name": "stdout",
     "output_type": "stream",
     "text": [
      "2r0_inverse: -0.0013900000000000002 . Score: 0.5240354\n"
     ]
    },
    {
     "name": "stderr",
     "output_type": "stream",
     "text": [
      "<ipython-input-3-62b85426b902>:106: RuntimeWarning: invalid value encountered in arccos\n",
      "  dfh['a1'] = dfh['a0'].values - np.nan_to_num(np.arccos(mm*ii*dfh['rt'].values))\n"
     ]
    },
    {
     "name": "stdout",
     "output_type": "stream",
     "text": [
      "2r0_inverse: 0.0013900000000000002 . Score: 0.5240985\n"
     ]
    },
    {
     "name": "stderr",
     "output_type": "stream",
     "text": [
      "<ipython-input-3-62b85426b902>:106: RuntimeWarning: invalid value encountered in arccos\n",
      "  dfh['a1'] = dfh['a0'].values - np.nan_to_num(np.arccos(mm*ii*dfh['rt'].values))\n"
     ]
    },
    {
     "name": "stdout",
     "output_type": "stream",
     "text": [
      "2r0_inverse: -0.0013950000000000002 . Score: 0.52405906\n"
     ]
    },
    {
     "name": "stderr",
     "output_type": "stream",
     "text": [
      "<ipython-input-3-62b85426b902>:106: RuntimeWarning: invalid value encountered in arccos\n",
      "  dfh['a1'] = dfh['a0'].values - np.nan_to_num(np.arccos(mm*ii*dfh['rt'].values))\n"
     ]
    },
    {
     "name": "stdout",
     "output_type": "stream",
     "text": [
      "2r0_inverse: 0.0013950000000000002 . Score: 0.5241042\n"
     ]
    },
    {
     "name": "stderr",
     "output_type": "stream",
     "text": [
      "<ipython-input-3-62b85426b902>:106: RuntimeWarning: invalid value encountered in arccos\n",
      "  dfh['a1'] = dfh['a0'].values - np.nan_to_num(np.arccos(mm*ii*dfh['rt'].values))\n"
     ]
    },
    {
     "name": "stdout",
     "output_type": "stream",
     "text": [
      "2r0_inverse: -0.0014000000000000002 . Score: 0.5241538\n"
     ]
    },
    {
     "name": "stderr",
     "output_type": "stream",
     "text": [
      "<ipython-input-3-62b85426b902>:106: RuntimeWarning: invalid value encountered in arccos\n",
      "  dfh['a1'] = dfh['a0'].values - np.nan_to_num(np.arccos(mm*ii*dfh['rt'].values))\n"
     ]
    },
    {
     "name": "stdout",
     "output_type": "stream",
     "text": [
      "2r0_inverse: 0.0014000000000000002 . Score: 0.5242534\n"
     ]
    },
    {
     "name": "stderr",
     "output_type": "stream",
     "text": [
      "<ipython-input-3-62b85426b902>:106: RuntimeWarning: invalid value encountered in arccos\n",
      "  dfh['a1'] = dfh['a0'].values - np.nan_to_num(np.arccos(mm*ii*dfh['rt'].values))\n"
     ]
    },
    {
     "name": "stdout",
     "output_type": "stream",
     "text": [
      "2r0_inverse: -0.0014050000000000002 . Score: 0.5243124\n"
     ]
    },
    {
     "name": "stderr",
     "output_type": "stream",
     "text": [
      "<ipython-input-3-62b85426b902>:106: RuntimeWarning: invalid value encountered in arccos\n",
      "  dfh['a1'] = dfh['a0'].values - np.nan_to_num(np.arccos(mm*ii*dfh['rt'].values))\n"
     ]
    },
    {
     "name": "stdout",
     "output_type": "stream",
     "text": [
      "2r0_inverse: 0.0014050000000000002 . Score: 0.5244327\n"
     ]
    },
    {
     "name": "stderr",
     "output_type": "stream",
     "text": [
      "<ipython-input-3-62b85426b902>:106: RuntimeWarning: invalid value encountered in arccos\n",
      "  dfh['a1'] = dfh['a0'].values - np.nan_to_num(np.arccos(mm*ii*dfh['rt'].values))\n"
     ]
    },
    {
     "name": "stdout",
     "output_type": "stream",
     "text": [
      "2r0_inverse: -0.00141 . Score: 0.5244034\n"
     ]
    },
    {
     "name": "stderr",
     "output_type": "stream",
     "text": [
      "<ipython-input-3-62b85426b902>:106: RuntimeWarning: invalid value encountered in arccos\n",
      "  dfh['a1'] = dfh['a0'].values - np.nan_to_num(np.arccos(mm*ii*dfh['rt'].values))\n"
     ]
    },
    {
     "name": "stdout",
     "output_type": "stream",
     "text": [
      "2r0_inverse: 0.00141 . Score: 0.5245181\n"
     ]
    },
    {
     "name": "stderr",
     "output_type": "stream",
     "text": [
      "<ipython-input-3-62b85426b902>:106: RuntimeWarning: invalid value encountered in arccos\n",
      "  dfh['a1'] = dfh['a0'].values - np.nan_to_num(np.arccos(mm*ii*dfh['rt'].values))\n"
     ]
    },
    {
     "name": "stdout",
     "output_type": "stream",
     "text": [
      "2r0_inverse: -0.001415 . Score: 0.5246408\n"
     ]
    },
    {
     "name": "stderr",
     "output_type": "stream",
     "text": [
      "<ipython-input-3-62b85426b902>:106: RuntimeWarning: invalid value encountered in arccos\n",
      "  dfh['a1'] = dfh['a0'].values - np.nan_to_num(np.arccos(mm*ii*dfh['rt'].values))\n"
     ]
    },
    {
     "name": "stdout",
     "output_type": "stream",
     "text": [
      "2r0_inverse: 0.001415 . Score: 0.52462393\n"
     ]
    },
    {
     "name": "stderr",
     "output_type": "stream",
     "text": [
      "<ipython-input-3-62b85426b902>:106: RuntimeWarning: invalid value encountered in arccos\n",
      "  dfh['a1'] = dfh['a0'].values - np.nan_to_num(np.arccos(mm*ii*dfh['rt'].values))\n"
     ]
    },
    {
     "name": "stdout",
     "output_type": "stream",
     "text": [
      "2r0_inverse: -0.00142 . Score: 0.5247221\n"
     ]
    },
    {
     "name": "stderr",
     "output_type": "stream",
     "text": [
      "<ipython-input-3-62b85426b902>:106: RuntimeWarning: invalid value encountered in arccos\n",
      "  dfh['a1'] = dfh['a0'].values - np.nan_to_num(np.arccos(mm*ii*dfh['rt'].values))\n"
     ]
    },
    {
     "name": "stdout",
     "output_type": "stream",
     "text": [
      "2r0_inverse: 0.00142 . Score: 0.52485394\n"
     ]
    },
    {
     "name": "stderr",
     "output_type": "stream",
     "text": [
      "<ipython-input-3-62b85426b902>:106: RuntimeWarning: invalid value encountered in arccos\n",
      "  dfh['a1'] = dfh['a0'].values - np.nan_to_num(np.arccos(mm*ii*dfh['rt'].values))\n"
     ]
    },
    {
     "name": "stdout",
     "output_type": "stream",
     "text": [
      "2r0_inverse: -0.001425 . Score: 0.5249004\n"
     ]
    },
    {
     "name": "stderr",
     "output_type": "stream",
     "text": [
      "<ipython-input-3-62b85426b902>:106: RuntimeWarning: invalid value encountered in arccos\n",
      "  dfh['a1'] = dfh['a0'].values - np.nan_to_num(np.arccos(mm*ii*dfh['rt'].values))\n"
     ]
    },
    {
     "name": "stdout",
     "output_type": "stream",
     "text": [
      "2r0_inverse: 0.001425 . Score: 0.5249083\n"
     ]
    },
    {
     "name": "stderr",
     "output_type": "stream",
     "text": [
      "<ipython-input-3-62b85426b902>:106: RuntimeWarning: invalid value encountered in arccos\n",
      "  dfh['a1'] = dfh['a0'].values - np.nan_to_num(np.arccos(mm*ii*dfh['rt'].values))\n"
     ]
    },
    {
     "name": "stdout",
     "output_type": "stream",
     "text": [
      "2r0_inverse: -0.00143 . Score: 0.52477306\n"
     ]
    },
    {
     "name": "stderr",
     "output_type": "stream",
     "text": [
      "<ipython-input-3-62b85426b902>:106: RuntimeWarning: invalid value encountered in arccos\n",
      "  dfh['a1'] = dfh['a0'].values - np.nan_to_num(np.arccos(mm*ii*dfh['rt'].values))\n"
     ]
    },
    {
     "name": "stdout",
     "output_type": "stream",
     "text": [
      "2r0_inverse: 0.00143 . Score: 0.5246661\n"
     ]
    },
    {
     "name": "stderr",
     "output_type": "stream",
     "text": [
      "<ipython-input-3-62b85426b902>:106: RuntimeWarning: invalid value encountered in arccos\n",
      "  dfh['a1'] = dfh['a0'].values - np.nan_to_num(np.arccos(mm*ii*dfh['rt'].values))\n"
     ]
    },
    {
     "name": "stdout",
     "output_type": "stream",
     "text": [
      "2r0_inverse: -0.001435 . Score: 0.52472794\n"
     ]
    },
    {
     "name": "stderr",
     "output_type": "stream",
     "text": [
      "<ipython-input-3-62b85426b902>:106: RuntimeWarning: invalid value encountered in arccos\n",
      "  dfh['a1'] = dfh['a0'].values - np.nan_to_num(np.arccos(mm*ii*dfh['rt'].values))\n"
     ]
    },
    {
     "name": "stdout",
     "output_type": "stream",
     "text": [
      "2r0_inverse: 0.001435 . Score: 0.5247801\n"
     ]
    },
    {
     "name": "stderr",
     "output_type": "stream",
     "text": [
      "<ipython-input-3-62b85426b902>:106: RuntimeWarning: invalid value encountered in arccos\n",
      "  dfh['a1'] = dfh['a0'].values - np.nan_to_num(np.arccos(mm*ii*dfh['rt'].values))\n"
     ]
    },
    {
     "name": "stdout",
     "output_type": "stream",
     "text": [
      "2r0_inverse: -0.00144 . Score: 0.5249275\n"
     ]
    },
    {
     "name": "stderr",
     "output_type": "stream",
     "text": [
      "<ipython-input-3-62b85426b902>:106: RuntimeWarning: invalid value encountered in arccos\n",
      "  dfh['a1'] = dfh['a0'].values - np.nan_to_num(np.arccos(mm*ii*dfh['rt'].values))\n"
     ]
    },
    {
     "name": "stdout",
     "output_type": "stream",
     "text": [
      "2r0_inverse: 0.00144 . Score: 0.524843\n"
     ]
    },
    {
     "name": "stderr",
     "output_type": "stream",
     "text": [
      "<ipython-input-3-62b85426b902>:106: RuntimeWarning: invalid value encountered in arccos\n",
      "  dfh['a1'] = dfh['a0'].values - np.nan_to_num(np.arccos(mm*ii*dfh['rt'].values))\n"
     ]
    },
    {
     "name": "stdout",
     "output_type": "stream",
     "text": [
      "2r0_inverse: -0.001445 . Score: 0.5248961\n"
     ]
    },
    {
     "name": "stderr",
     "output_type": "stream",
     "text": [
      "<ipython-input-3-62b85426b902>:106: RuntimeWarning: invalid value encountered in arccos\n",
      "  dfh['a1'] = dfh['a0'].values - np.nan_to_num(np.arccos(mm*ii*dfh['rt'].values))\n"
     ]
    },
    {
     "name": "stdout",
     "output_type": "stream",
     "text": [
      "2r0_inverse: 0.001445 . Score: 0.5249363\n"
     ]
    },
    {
     "name": "stderr",
     "output_type": "stream",
     "text": [
      "<ipython-input-3-62b85426b902>:106: RuntimeWarning: invalid value encountered in arccos\n",
      "  dfh['a1'] = dfh['a0'].values - np.nan_to_num(np.arccos(mm*ii*dfh['rt'].values))\n"
     ]
    },
    {
     "name": "stdout",
     "output_type": "stream",
     "text": [
      "2r0_inverse: -0.0014500000000000001 . Score: 0.52524066\n"
     ]
    },
    {
     "name": "stderr",
     "output_type": "stream",
     "text": [
      "<ipython-input-3-62b85426b902>:106: RuntimeWarning: invalid value encountered in arccos\n",
      "  dfh['a1'] = dfh['a0'].values - np.nan_to_num(np.arccos(mm*ii*dfh['rt'].values))\n"
     ]
    },
    {
     "name": "stdout",
     "output_type": "stream",
     "text": [
      "2r0_inverse: 0.0014500000000000001 . Score: 0.52513725\n"
     ]
    },
    {
     "name": "stderr",
     "output_type": "stream",
     "text": [
      "<ipython-input-3-62b85426b902>:106: RuntimeWarning: invalid value encountered in arccos\n",
      "  dfh['a1'] = dfh['a0'].values - np.nan_to_num(np.arccos(mm*ii*dfh['rt'].values))\n"
     ]
    },
    {
     "name": "stdout",
     "output_type": "stream",
     "text": [
      "2r0_inverse: -0.0014550000000000001 . Score: 0.5252298\n"
     ]
    },
    {
     "name": "stderr",
     "output_type": "stream",
     "text": [
      "<ipython-input-3-62b85426b902>:106: RuntimeWarning: invalid value encountered in arccos\n",
      "  dfh['a1'] = dfh['a0'].values - np.nan_to_num(np.arccos(mm*ii*dfh['rt'].values))\n"
     ]
    },
    {
     "name": "stdout",
     "output_type": "stream",
     "text": [
      "2r0_inverse: 0.0014550000000000001 . Score: 0.5251797\n"
     ]
    },
    {
     "name": "stderr",
     "output_type": "stream",
     "text": [
      "<ipython-input-3-62b85426b902>:106: RuntimeWarning: invalid value encountered in arccos\n",
      "  dfh['a1'] = dfh['a0'].values - np.nan_to_num(np.arccos(mm*ii*dfh['rt'].values))\n"
     ]
    },
    {
     "name": "stdout",
     "output_type": "stream",
     "text": [
      "2r0_inverse: -0.0014600000000000001 . Score: 0.52532333\n"
     ]
    },
    {
     "name": "stderr",
     "output_type": "stream",
     "text": [
      "<ipython-input-3-62b85426b902>:106: RuntimeWarning: invalid value encountered in arccos\n",
      "  dfh['a1'] = dfh['a0'].values - np.nan_to_num(np.arccos(mm*ii*dfh['rt'].values))\n"
     ]
    },
    {
     "name": "stdout",
     "output_type": "stream",
     "text": [
      "2r0_inverse: 0.0014600000000000001 . Score: 0.525298\n"
     ]
    },
    {
     "name": "stderr",
     "output_type": "stream",
     "text": [
      "<ipython-input-3-62b85426b902>:106: RuntimeWarning: invalid value encountered in arccos\n",
      "  dfh['a1'] = dfh['a0'].values - np.nan_to_num(np.arccos(mm*ii*dfh['rt'].values))\n"
     ]
    },
    {
     "name": "stdout",
     "output_type": "stream",
     "text": [
      "2r0_inverse: -0.0014650000000000002 . Score: 0.5252817\n"
     ]
    },
    {
     "name": "stderr",
     "output_type": "stream",
     "text": [
      "<ipython-input-3-62b85426b902>:106: RuntimeWarning: invalid value encountered in arccos\n",
      "  dfh['a1'] = dfh['a0'].values - np.nan_to_num(np.arccos(mm*ii*dfh['rt'].values))\n"
     ]
    },
    {
     "name": "stdout",
     "output_type": "stream",
     "text": [
      "2r0_inverse: 0.0014650000000000002 . Score: 0.52528244\n"
     ]
    },
    {
     "name": "stderr",
     "output_type": "stream",
     "text": [
      "<ipython-input-3-62b85426b902>:106: RuntimeWarning: invalid value encountered in arccos\n",
      "  dfh['a1'] = dfh['a0'].values - np.nan_to_num(np.arccos(mm*ii*dfh['rt'].values))\n"
     ]
    },
    {
     "name": "stdout",
     "output_type": "stream",
     "text": [
      "2r0_inverse: -0.0014700000000000002 . Score: 0.5254017\n"
     ]
    },
    {
     "name": "stderr",
     "output_type": "stream",
     "text": [
      "<ipython-input-3-62b85426b902>:106: RuntimeWarning: invalid value encountered in arccos\n",
      "  dfh['a1'] = dfh['a0'].values - np.nan_to_num(np.arccos(mm*ii*dfh['rt'].values))\n"
     ]
    },
    {
     "name": "stdout",
     "output_type": "stream",
     "text": [
      "2r0_inverse: 0.0014700000000000002 . Score: 0.52515584\n"
     ]
    },
    {
     "name": "stderr",
     "output_type": "stream",
     "text": [
      "<ipython-input-3-62b85426b902>:106: RuntimeWarning: invalid value encountered in arccos\n",
      "  dfh['a1'] = dfh['a0'].values - np.nan_to_num(np.arccos(mm*ii*dfh['rt'].values))\n"
     ]
    },
    {
     "name": "stdout",
     "output_type": "stream",
     "text": [
      "2r0_inverse: -0.0014750000000000002 . Score: 0.52546924\n"
     ]
    },
    {
     "name": "stderr",
     "output_type": "stream",
     "text": [
      "<ipython-input-3-62b85426b902>:106: RuntimeWarning: invalid value encountered in arccos\n",
      "  dfh['a1'] = dfh['a0'].values - np.nan_to_num(np.arccos(mm*ii*dfh['rt'].values))\n"
     ]
    },
    {
     "name": "stdout",
     "output_type": "stream",
     "text": [
      "2r0_inverse: 0.0014750000000000002 . Score: 0.52550745\n"
     ]
    },
    {
     "name": "stderr",
     "output_type": "stream",
     "text": [
      "<ipython-input-3-62b85426b902>:106: RuntimeWarning: invalid value encountered in arccos\n",
      "  dfh['a1'] = dfh['a0'].values - np.nan_to_num(np.arccos(mm*ii*dfh['rt'].values))\n"
     ]
    },
    {
     "name": "stdout",
     "output_type": "stream",
     "text": [
      "2r0_inverse: -0.0014800000000000002 . Score: 0.5255572\n"
     ]
    },
    {
     "name": "stderr",
     "output_type": "stream",
     "text": [
      "<ipython-input-3-62b85426b902>:106: RuntimeWarning: invalid value encountered in arccos\n",
      "  dfh['a1'] = dfh['a0'].values - np.nan_to_num(np.arccos(mm*ii*dfh['rt'].values))\n"
     ]
    },
    {
     "name": "stdout",
     "output_type": "stream",
     "text": [
      "2r0_inverse: 0.0014800000000000002 . Score: 0.5254162\n"
     ]
    },
    {
     "name": "stderr",
     "output_type": "stream",
     "text": [
      "<ipython-input-3-62b85426b902>:106: RuntimeWarning: invalid value encountered in arccos\n",
      "  dfh['a1'] = dfh['a0'].values - np.nan_to_num(np.arccos(mm*ii*dfh['rt'].values))\n"
     ]
    },
    {
     "name": "stdout",
     "output_type": "stream",
     "text": [
      "2r0_inverse: -0.0014850000000000002 . Score: 0.52551657\n"
     ]
    },
    {
     "name": "stderr",
     "output_type": "stream",
     "text": [
      "<ipython-input-3-62b85426b902>:106: RuntimeWarning: invalid value encountered in arccos\n",
      "  dfh['a1'] = dfh['a0'].values - np.nan_to_num(np.arccos(mm*ii*dfh['rt'].values))\n"
     ]
    },
    {
     "name": "stdout",
     "output_type": "stream",
     "text": [
      "2r0_inverse: 0.0014850000000000002 . Score: 0.5255115\n"
     ]
    },
    {
     "name": "stderr",
     "output_type": "stream",
     "text": [
      "<ipython-input-3-62b85426b902>:106: RuntimeWarning: invalid value encountered in arccos\n",
      "  dfh['a1'] = dfh['a0'].values - np.nan_to_num(np.arccos(mm*ii*dfh['rt'].values))\n"
     ]
    },
    {
     "name": "stdout",
     "output_type": "stream",
     "text": [
      "2r0_inverse: -0.0014900000000000002 . Score: 0.525512\n"
     ]
    },
    {
     "name": "stderr",
     "output_type": "stream",
     "text": [
      "<ipython-input-3-62b85426b902>:106: RuntimeWarning: invalid value encountered in arccos\n",
      "  dfh['a1'] = dfh['a0'].values - np.nan_to_num(np.arccos(mm*ii*dfh['rt'].values))\n"
     ]
    },
    {
     "name": "stdout",
     "output_type": "stream",
     "text": [
      "2r0_inverse: 0.0014900000000000002 . Score: 0.5252999\n"
     ]
    },
    {
     "name": "stderr",
     "output_type": "stream",
     "text": [
      "<ipython-input-3-62b85426b902>:106: RuntimeWarning: invalid value encountered in arccos\n",
      "  dfh['a1'] = dfh['a0'].values - np.nan_to_num(np.arccos(mm*ii*dfh['rt'].values))\n"
     ]
    },
    {
     "name": "stdout",
     "output_type": "stream",
     "text": [
      "2r0_inverse: -0.001495 . Score: 0.5254206\n"
     ]
    },
    {
     "name": "stderr",
     "output_type": "stream",
     "text": [
      "<ipython-input-3-62b85426b902>:106: RuntimeWarning: invalid value encountered in arccos\n",
      "  dfh['a1'] = dfh['a0'].values - np.nan_to_num(np.arccos(mm*ii*dfh['rt'].values))\n"
     ]
    },
    {
     "name": "stdout",
     "output_type": "stream",
     "text": [
      "2r0_inverse: 0.001495 . Score: 0.52551883\n",
      "\n",
      "\n"
     ]
    }
   ],
   "source": [
    "# Clustering by varying \n",
    "#model = Clusterer()\n",
    "#model.initialize(hits) \n",
    "c = [1.5,1.5,0.73,0.17,0.027,0.027] #[phi_coef,phi_coef,zdivrt_coef,zdivr_coef,xdivr_coef,ydivr_coef]\n",
    "min_samples_in_cluster = 1\n",
    "\n",
    "model = Clusterer()\n",
    "model.initialize(hits) \n",
    "hits_with_dz = preprocess_hits(hits, 0)\n",
    "model.Hough_clustering(hits_with_dz,coef=c,epsilon=0.0048,min_samples=min_samples_in_cluster,\n",
    "                       n_loop=300,verbose=True)\n",
    "\n",
    "submission = create_one_event_submission(0, hits, model.cluster)\n",
    "print('\\n') "
   ]
  },
  {
   "cell_type": "code",
   "execution_count": 5,
   "metadata": {},
   "outputs": [
    {
     "name": "stdout",
     "output_type": "stream",
     "text": [
      "Precision:  88.62100591667675 , good tracks: 3554 , total tracks: 3669 , loss: 0.05139141237123113 , reco: 0.400242505598726 reco/loss 7.78812037130899\n"
     ]
    }
   ],
   "source": [
    "pr = precision(truth,submission,min_hits=10)"
   ]
  },
  {
   "cell_type": "code",
   "execution_count": 6,
   "metadata": {},
   "outputs": [
    {
     "name": "stdout",
     "output_type": "stream",
     "text": [
      "Precision:  86.6966189831456 , good tracks: 5096 , total tracks: 5563 , loss: 0.0781183681440325 , reco: 0.5090885805147991 reco/loss 6.516887034508396\n"
     ]
    }
   ],
   "source": [
    "pr = precision(truth,submission,min_hits=7)"
   ]
  },
  {
   "cell_type": "code",
   "execution_count": 7,
   "metadata": {},
   "outputs": [
    {
     "name": "stdout",
     "output_type": "stream",
     "text": [
      "Precision:  76.65909262518073 , good tracks: 5603 , total tracks: 8669 , loss: 0.1638479780478974 , reco: 0.5381298951706412 reco/loss 3.2843242961065444\n"
     ]
    }
   ],
   "source": [
    "pr = precision(truth,submission,min_hits=4)"
   ]
  },
  {
   "cell_type": "code",
   "execution_count": 8,
   "metadata": {},
   "outputs": [
    {
     "name": "stdout",
     "output_type": "stream",
     "text": [
      "Precision:  54.15145644480604 , good tracks: 6494 , total tracks: 39908 , loss: 0.45848541640179974 , reco: 0.5415145321712771 reco/loss 1.1810943441147836\n"
     ]
    }
   ],
   "source": [
    "pr = precision(truth,submission,min_hits=1)"
   ]
  },
  {
   "cell_type": "code",
   "execution_count": null,
   "metadata": {},
   "outputs": [],
   "source": []
  }
 ],
 "metadata": {
  "kernelspec": {
   "display_name": "Python 3",
   "language": "python",
   "name": "python3"
  },
  "language_info": {
   "codemirror_mode": {
    "name": "ipython",
    "version": 3
   },
   "file_extension": ".py",
   "mimetype": "text/x-python",
   "name": "python",
   "nbconvert_exporter": "python",
   "pygments_lexer": "ipython3",
   "version": "3.8.3"
  }
 },
 "nbformat": 4,
 "nbformat_minor": 4
}
