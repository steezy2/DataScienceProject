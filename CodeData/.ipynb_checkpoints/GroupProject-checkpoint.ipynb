{
 "cells": [
  {
   "cell_type": "code",
   "execution_count": 2,
   "metadata": {
    "colab": {
     "base_uri": "https://localhost:8080/",
     "height": 269
    },
    "id": "0kUXnBNkuiQw",
    "outputId": "907ebf4d-4cbb-4a21-ff6d-593cde38a09c"
   },
   "outputs": [
    {
     "name": "stdout",
     "output_type": "stream",
     "text": [
      "Collecting git+https://github.com/LAL/trackml-library.git\n",
      "  Cloning https://github.com/LAL/trackml-library.git to /tmp/pip-req-build-9qg7fyv4\n",
      "  Running command git clone -q https://github.com/LAL/trackml-library.git /tmp/pip-req-build-9qg7fyv4\n",
      "Requirement already satisfied: numpy in /usr/local/lib/python3.6/dist-packages (from trackml==3) (1.18.5)\n",
      "Requirement already satisfied: pandas>=0.21.0 in /usr/local/lib/python3.6/dist-packages (from trackml==3) (1.1.2)\n",
      "Requirement already satisfied: python-dateutil>=2.7.3 in /usr/local/lib/python3.6/dist-packages (from pandas>=0.21.0->trackml==3) (2.8.1)\n",
      "Requirement already satisfied: pytz>=2017.2 in /usr/local/lib/python3.6/dist-packages (from pandas>=0.21.0->trackml==3) (2018.9)\n",
      "Requirement already satisfied: six>=1.5 in /usr/local/lib/python3.6/dist-packages (from python-dateutil>=2.7.3->pandas>=0.21.0->trackml==3) (1.15.0)\n",
      "Building wheels for collected packages: trackml\n",
      "  Building wheel for trackml (setup.py) ... \u001b[?25l\u001b[?25hdone\n",
      "  Created wheel for trackml: filename=trackml-3-py2.py3-none-any.whl size=13511 sha256=8e5f140e2a22cefa2cae30718047124a5be1e66e15855de2817b52dda3b7db1d\n",
      "  Stored in directory: /tmp/pip-ephem-wheel-cache-srqx3auv/wheels/0f/9a/5f/be8818e35f0d18b449158a62387337b237826b5cc21a1b28eb\n",
      "Successfully built trackml\n",
      "Installing collected packages: trackml\n",
      "Successfully installed trackml-3\n"
     ]
    }
   ],
   "source": [
    "#!pip install --user git+https://github.com/LAL/trackml-library.git\n"
   ]
  },
  {
   "cell_type": "code",
   "execution_count": 1,
   "metadata": {
    "colab": {
     "base_uri": "https://localhost:8080/",
     "height": 34
    },
    "id": "TO_roSLbu2GR",
    "outputId": "4b2caa23-dfdc-4acf-a7ee-dc645a12501f"
   },
   "outputs": [
    {
     "ename": "ModuleNotFoundError",
     "evalue": "No module named 'google.colab'",
     "output_type": "error",
     "traceback": [
      "\u001b[1;31m---------------------------------------------------------------------------\u001b[0m",
      "\u001b[1;31mModuleNotFoundError\u001b[0m                       Traceback (most recent call last)",
      "\u001b[1;32m<ipython-input-1-16f137b71a34>\u001b[0m in \u001b[0;36m<module>\u001b[1;34m\u001b[0m\n\u001b[0;32m      1\u001b[0m \u001b[1;31m#pip install --user <path/to/repository>\u001b[0m\u001b[1;33m\u001b[0m\u001b[1;33m\u001b[0m\u001b[1;33m\u001b[0m\u001b[0m\n\u001b[0;32m      2\u001b[0m \u001b[1;32mfrom\u001b[0m \u001b[0mtrackml\u001b[0m\u001b[1;33m.\u001b[0m\u001b[0mdataset\u001b[0m \u001b[1;32mimport\u001b[0m \u001b[0mload_event\u001b[0m\u001b[1;33m\u001b[0m\u001b[1;33m\u001b[0m\u001b[0m\n\u001b[1;32m----> 3\u001b[1;33m \u001b[1;32mfrom\u001b[0m \u001b[0mgoogle\u001b[0m\u001b[1;33m.\u001b[0m\u001b[0mcolab\u001b[0m \u001b[1;32mimport\u001b[0m \u001b[0mdrive\u001b[0m\u001b[1;33m\u001b[0m\u001b[1;33m\u001b[0m\u001b[0m\n\u001b[0m\u001b[0;32m      4\u001b[0m \u001b[0mdrive\u001b[0m\u001b[1;33m.\u001b[0m\u001b[0mmount\u001b[0m\u001b[1;33m(\u001b[0m\u001b[1;34m'/content/drive'\u001b[0m\u001b[1;33m)\u001b[0m\u001b[1;33m\u001b[0m\u001b[1;33m\u001b[0m\u001b[0m\n\u001b[0;32m      5\u001b[0m \u001b[0mhits\u001b[0m\u001b[1;33m,\u001b[0m \u001b[0mcells\u001b[0m\u001b[1;33m,\u001b[0m \u001b[0mparticles\u001b[0m\u001b[1;33m,\u001b[0m \u001b[0mtruth\u001b[0m \u001b[1;33m=\u001b[0m \u001b[0mload_event\u001b[0m\u001b[1;33m(\u001b[0m\u001b[1;34m'/content/drive/My Drive/train_sample/train_100_events/event000001000'\u001b[0m\u001b[1;33m)\u001b[0m\u001b[1;33m\u001b[0m\u001b[1;33m\u001b[0m\u001b[0m\n",
      "\u001b[1;31mModuleNotFoundError\u001b[0m: No module named 'google.colab'"
     ]
    }
   ],
   "source": [
    "\n",
    "#pip install --user <path/to/repository>\n",
    "from trackml.dataset import load_event\n",
    "from google.colab import drive \n",
    "drive.mount('/content/drive')\n",
    "hits, cells, particles, truth = load_event('/content/drive/My Drive/train_sample/train_100_events/event000001000')"
   ]
  },
  {
   "cell_type": "code",
   "execution_count": null,
   "metadata": {
    "id": "4mGpJpvC7Rgl"
   },
   "outputs": [],
   "source": [
    "print(\"hits describe:\\n\", hits.describe())\n",
    "print(\"hits head:\\n\",hits.head())\n",
    "print(\"cells describe:\\n\",cells.describe())\n",
    "print(\"cells head:\\n\",cells.head())\n",
    "print(\"particles describe:\\n\",particles.describe())\n",
    "print(\"particles head:\\n\",particles.head())\n",
    "print(\"truth describe:\\n\",truth.describe())\n",
    "print(\"truth head:\\n\",truth.head())"
   ]
  },
  {
   "cell_type": "code",
   "execution_count": 3,
   "metadata": {
    "id": "JoyyKEjUMsuL"
   },
   "outputs": [],
   "source": [
    "import numpy as np\n",
    "import pandas as pd\n",
    "import sklearn as sk\n",
    "import matplotlib.pyplot as plt\n",
    "from trackml.dataset import load_event\n",
    "from sklearn import svm\n",
    "from sklearn.model_selection import train_test_split\n",
    "from sklearn import preprocessing"
   ]
  },
  {
   "cell_type": "code",
   "execution_count": 4,
   "metadata": {
    "colab": {
     "base_uri": "https://localhost:8080/",
     "height": 101
    },
    "id": "HVviufJz7SWz",
    "outputId": "7e332b40-8c0e-4178-8883-f6cbbe48b33a"
   },
   "outputs": [
    {
     "name": "stdout",
     "output_type": "stream",
     "text": [
      "(120939, 7)\n",
      "(664996, 4)\n",
      "(12263, 9)\n",
      "(664996, 11)\n",
      "(120939, 9)\n"
     ]
    }
   ],
   "source": [
    "\n",
    "datahit = hits\n",
    "#print(truth.keys)\n",
    "target = truth\n",
    "frames = [hits, cells]\n",
    "\n",
    "features = pd.concat(frames, axis=1, keys=\"hit_id\")\n",
    "print(hits.shape)\n",
    "print(cells.shape)\n",
    "print(particles.shape)\n",
    "print(features.shape)\n",
    "print(target.shape)\n",
    "\n",
    "normalized_hits = preprocessing.normalize(hits)\n",
    "featuretest = normalized_hits"
   ]
  },
  {
   "cell_type": "code",
   "execution_count": 5,
   "metadata": {
    "colab": {
     "base_uri": "https://localhost:8080/",
     "height": 67
    },
    "id": "VkgdIi3i7TCU",
    "outputId": "aaf7c651-7e0e-4ff1-f696-8a1328eb5ef6"
   },
   "outputs": [
    {
     "name": "stdout",
     "output_type": "stream",
     "text": [
      "(19349, 7)\n",
      "(19349,)\n",
      "finishedfit\n"
     ]
    }
   ],
   "source": [
    "X_new,X_trash,y_new, y_trash = train_test_split(featuretest,target[\"particle_id\"],test_size = 0.8)\n",
    "X_train, X_test, y_train, y_test = train_test_split(X_new, y_new, test_size=0.2)\n",
    "\n",
    "clf = svm.SVC(gamma = 1, kernel = 'rbf',C = 1)\n",
    "print(X_train.shape)\n",
    "print(y_train.shape)\n",
    "clf.fit(X_train, y_train)\n",
    "print(\"finishedfit\")"
   ]
  },
  {
   "cell_type": "code",
   "execution_count": 6,
   "metadata": {
    "id": "NbJlyycg7TeK"
   },
   "outputs": [],
   "source": [
    "\n",
    "from trackml.randomize import shuffle_hits\n",
    "from trackml.score import score_event\n",
    "\n",
    "shuffled = shuffle_hits(truth, 0.05) # 5% probability to reassign a hit\n",
    "score = score_event(truth, shuffled)"
   ]
  },
  {
   "cell_type": "code",
   "execution_count": 7,
   "metadata": {
    "colab": {
     "base_uri": "https://localhost:8080/",
     "height": 34
    },
    "id": "pkrAW0OG7T0I",
    "outputId": "93ab1be3-e0ee-42b6-a99f-2baa179e1d4c"
   },
   "outputs": [
    {
     "name": "stdout",
     "output_type": "stream",
     "text": [
      "0.94956014703905\n"
     ]
    }
   ],
   "source": [
    "print(score)"
   ]
  },
  {
   "cell_type": "code",
   "execution_count": 8,
   "metadata": {
    "colab": {
     "base_uri": "https://localhost:8080/",
     "height": 50
    },
    "id": "EUAoyzLn7UBc",
    "outputId": "81c90124-2bd4-474c-fd15-4084168fd035"
   },
   "outputs": [
    {
     "name": "stdout",
     "output_type": "stream",
     "text": [
      "Predict done\n"
     ]
    },
    {
     "data": {
      "text/plain": [
       "1.0"
      ]
     },
     "execution_count": 8,
     "metadata": {
      "tags": []
     },
     "output_type": "execute_result"
    }
   ],
   "source": [
    "y_hat = clf.predict(X_test)\n",
    "print(\"Predict done\")\n",
    "clf.score(X_test, y_hat)"
   ]
  }
 ],
 "metadata": {
  "colab": {
   "collapsed_sections": [],
   "name": "GroupProject.ipynb",
   "provenance": []
  },
  "kernelspec": {
   "display_name": "Python 3",
   "language": "python",
   "name": "python3"
  },
  "language_info": {
   "codemirror_mode": {
    "name": "ipython",
    "version": 3
   },
   "file_extension": ".py",
   "mimetype": "text/x-python",
   "name": "python",
   "nbconvert_exporter": "python",
   "pygments_lexer": "ipython3",
   "version": "3.8.3"
  }
 },
 "nbformat": 4,
 "nbformat_minor": 1
}
