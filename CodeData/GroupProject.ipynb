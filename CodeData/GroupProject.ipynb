{
  "nbformat": 4,
  "nbformat_minor": 0,
  "metadata": {
    "colab": {
      "name": "GroupProject.ipynb",
      "provenance": [],
      "collapsed_sections": []
    },
    "kernelspec": {
      "name": "python3",
      "display_name": "Python 3"
    }
  },
  "cells": [
    {
      "cell_type": "code",
      "metadata": {
        "id": "0kUXnBNkuiQw",
        "outputId": "907ebf4d-4cbb-4a21-ff6d-593cde38a09c",
        "colab": {
          "base_uri": "https://localhost:8080/",
          "height": 269
        }
      },
      "source": [
        "!pip install --user git+https://github.com/LAL/trackml-library.git\n"
      ],
      "execution_count": 2,
      "outputs": [
        {
          "output_type": "stream",
          "text": [
            "Collecting git+https://github.com/LAL/trackml-library.git\n",
            "  Cloning https://github.com/LAL/trackml-library.git to /tmp/pip-req-build-9qg7fyv4\n",
            "  Running command git clone -q https://github.com/LAL/trackml-library.git /tmp/pip-req-build-9qg7fyv4\n",
            "Requirement already satisfied: numpy in /usr/local/lib/python3.6/dist-packages (from trackml==3) (1.18.5)\n",
            "Requirement already satisfied: pandas>=0.21.0 in /usr/local/lib/python3.6/dist-packages (from trackml==3) (1.1.2)\n",
            "Requirement already satisfied: python-dateutil>=2.7.3 in /usr/local/lib/python3.6/dist-packages (from pandas>=0.21.0->trackml==3) (2.8.1)\n",
            "Requirement already satisfied: pytz>=2017.2 in /usr/local/lib/python3.6/dist-packages (from pandas>=0.21.0->trackml==3) (2018.9)\n",
            "Requirement already satisfied: six>=1.5 in /usr/local/lib/python3.6/dist-packages (from python-dateutil>=2.7.3->pandas>=0.21.0->trackml==3) (1.15.0)\n",
            "Building wheels for collected packages: trackml\n",
            "  Building wheel for trackml (setup.py) ... \u001b[?25l\u001b[?25hdone\n",
            "  Created wheel for trackml: filename=trackml-3-py2.py3-none-any.whl size=13511 sha256=8e5f140e2a22cefa2cae30718047124a5be1e66e15855de2817b52dda3b7db1d\n",
            "  Stored in directory: /tmp/pip-ephem-wheel-cache-srqx3auv/wheels/0f/9a/5f/be8818e35f0d18b449158a62387337b237826b5cc21a1b28eb\n",
            "Successfully built trackml\n",
            "Installing collected packages: trackml\n",
            "Successfully installed trackml-3\n"
          ],
          "name": "stdout"
        }
      ]
    },
    {
      "cell_type": "code",
      "metadata": {
        "id": "TO_roSLbu2GR",
        "outputId": "4b2caa23-dfdc-4acf-a7ee-dc645a12501f",
        "colab": {
          "base_uri": "https://localhost:8080/",
          "height": 34
        }
      },
      "source": [
        "\n",
        "#pip install --user <path/to/repository>\n",
        "from trackml.dataset import load_event\n",
        "from google.colab import drive \n",
        "drive.mount('/content/drive')\n",
        "hits, cells, particles, truth = load_event('/content/drive/My Drive/train_sample/train_100_events/event000001000')"
      ],
      "execution_count": 1,
      "outputs": [
        {
          "output_type": "stream",
          "text": [
            "Drive already mounted at /content/drive; to attempt to forcibly remount, call drive.mount(\"/content/drive\", force_remount=True).\n"
          ],
          "name": "stdout"
        }
      ]
    },
    {
      "cell_type": "code",
      "metadata": {
        "id": "4mGpJpvC7Rgl"
      },
      "source": [
        "print(\"hits describe:\\n\", hits.describe())\n",
        "print(\"hits head:\\n\",hits.head())\n",
        "print(\"cells describe:\\n\",cells.describe())\n",
        "print(\"cells head:\\n\",cells.head())\n",
        "print(\"particles describe:\\n\",particles.describe())\n",
        "print(\"particles head:\\n\",particles.head())\n",
        "print(\"truth describe:\\n\",truth.describe())\n",
        "print(\"truth head:\\n\",truth.head())"
      ],
      "execution_count": null,
      "outputs": []
    },
    {
      "cell_type": "code",
      "metadata": {
        "id": "JoyyKEjUMsuL"
      },
      "source": [
        "import numpy as np\n",
        "import pandas as pd\n",
        "import sklearn as sk\n",
        "import matplotlib.pyplot as plt\n",
        "from trackml.dataset import load_event\n",
        "from sklearn import svm\n",
        "from sklearn.model_selection import train_test_split\n",
        "from sklearn import preprocessing"
      ],
      "execution_count": 3,
      "outputs": []
    },
    {
      "cell_type": "code",
      "metadata": {
        "id": "HVviufJz7SWz",
        "outputId": "7e332b40-8c0e-4178-8883-f6cbbe48b33a",
        "colab": {
          "base_uri": "https://localhost:8080/",
          "height": 101
        }
      },
      "source": [
        "\n",
        "datahit = hits\n",
        "#print(truth.keys)\n",
        "target = truth\n",
        "frames = [hits, cells]\n",
        "\n",
        "features = pd.concat(frames, axis=1, keys=\"hit_id\")\n",
        "print(hits.shape)\n",
        "print(cells.shape)\n",
        "print(particles.shape)\n",
        "print(features.shape)\n",
        "print(target.shape)\n",
        "\n",
        "normalized_hits = preprocessing.normalize(hits)\n",
        "featuretest = normalized_hits"
      ],
      "execution_count": 4,
      "outputs": [
        {
          "output_type": "stream",
          "text": [
            "(120939, 7)\n",
            "(664996, 4)\n",
            "(12263, 9)\n",
            "(664996, 11)\n",
            "(120939, 9)\n"
          ],
          "name": "stdout"
        }
      ]
    },
    {
      "cell_type": "code",
      "metadata": {
        "id": "VkgdIi3i7TCU",
        "outputId": "aaf7c651-7e0e-4ff1-f696-8a1328eb5ef6",
        "colab": {
          "base_uri": "https://localhost:8080/",
          "height": 67
        }
      },
      "source": [
        "X_new,X_trash,y_new, y_trash = train_test_split(featuretest,target[\"particle_id\"],test_size = 0.8)\n",
        "X_train, X_test, y_train, y_test = train_test_split(X_new, y_new, test_size=0.2)\n",
        "\n",
        "clf = svm.SVC(gamma = 1, kernel = 'rbf',C = 1)\n",
        "print(X_train.shape)\n",
        "print(y_train.shape)\n",
        "clf.fit(X_train, y_train)\n",
        "print(\"finishedfit\")"
      ],
      "execution_count": 5,
      "outputs": [
        {
          "output_type": "stream",
          "text": [
            "(19349, 7)\n",
            "(19349,)\n",
            "finishedfit\n"
          ],
          "name": "stdout"
        }
      ]
    },
    {
      "cell_type": "code",
      "metadata": {
        "id": "NbJlyycg7TeK"
      },
      "source": [
        "\n",
        "from trackml.randomize import shuffle_hits\n",
        "from trackml.score import score_event\n",
        "\n",
        "shuffled = shuffle_hits(truth, 0.05) # 5% probability to reassign a hit\n",
        "score = score_event(truth, shuffled)"
      ],
      "execution_count": 6,
      "outputs": []
    },
    {
      "cell_type": "code",
      "metadata": {
        "id": "pkrAW0OG7T0I",
        "outputId": "93ab1be3-e0ee-42b6-a99f-2baa179e1d4c",
        "colab": {
          "base_uri": "https://localhost:8080/",
          "height": 34
        }
      },
      "source": [
        "print(score)"
      ],
      "execution_count": 7,
      "outputs": [
        {
          "output_type": "stream",
          "text": [
            "0.94956014703905\n"
          ],
          "name": "stdout"
        }
      ]
    },
    {
      "cell_type": "code",
      "metadata": {
        "id": "EUAoyzLn7UBc",
        "outputId": "81c90124-2bd4-474c-fd15-4084168fd035",
        "colab": {
          "base_uri": "https://localhost:8080/",
          "height": 50
        }
      },
      "source": [
        "y_hat = clf.predict(X_test)\n",
        "print(\"Predict done\")\n",
        "clf.score(X_test, y_hat)"
      ],
      "execution_count": 8,
      "outputs": [
        {
          "output_type": "stream",
          "text": [
            "Predict done\n"
          ],
          "name": "stdout"
        },
        {
          "output_type": "execute_result",
          "data": {
            "text/plain": [
              "1.0"
            ]
          },
          "metadata": {
            "tags": []
          },
          "execution_count": 8
        }
      ]
    }
  ]
}